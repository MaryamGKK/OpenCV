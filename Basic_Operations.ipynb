{
 "cells": [
  {
   "cell_type": "code",
   "execution_count": 41,
   "source": [
    "# Imports\r\n",
    "import cv2 as cv \r\n",
    "import numpy as np\r\n",
    "import matplotlib.pyplot as plt"
   ],
   "outputs": [],
   "metadata": {}
  },
  {
   "cell_type": "code",
   "execution_count": 2,
   "source": [
    "# Read images\r\n",
    "img = cv.imread('mango.jpeg')\r\n",
    "cv.imshow('Image', img)\r\n",
    "cv.waitKey(0) # cv.waitKey(0) --> displays image as long as we want.\r\n",
    "img.shape ##height, width, channel"
   ],
   "outputs": [
    {
     "output_type": "execute_result",
     "data": {
      "text/plain": [
       "(325, 474, 3)"
      ]
     },
     "metadata": {},
     "execution_count": 2
    }
   ],
   "metadata": {}
  },
  {
   "cell_type": "code",
   "execution_count": null,
   "source": [
    "# Read and process videos:\r\n",
    "# 1) Capture video\r\n",
    "# 2) Read images frame by frame.\r\n",
    "# 3) display images as video\r\n",
    "vid = cv.VideoCapture('onboarding.spec.js.mp4')\r\n",
    "while True:\r\n",
    "    success, image = vid.read()\r\n",
    "    if success:\r\n",
    "        image = cv.resize(image, (640, 480))\r\n",
    "        cv.imshow('vid', image)\r\n",
    "        cv.waitKey(1)\r\n",
    "        if cv.waitKey(1) == ord('q'):\r\n",
    "            break"
   ],
   "outputs": [],
   "metadata": {}
  },
  {
   "cell_type": "code",
   "execution_count": null,
   "source": [
    "## Read Web cam\r\n",
    "width = 640\r\n",
    "height = 480\r\n",
    "vid = cv.VideoCapture(0)\r\n",
    "vid.set(3, width)\r\n",
    "vid.set(4, height)\r\n",
    "\r\n",
    "while True:\r\n",
    "    success, image = vid.read()\r\n",
    "    if success:\r\n",
    "        cv.imshow('Video', image)\r\n",
    "        if cv.waitKey(71) == ord('q'):\r\n",
    "            break"
   ],
   "outputs": [],
   "metadata": {}
  },
  {
   "cell_type": "code",
   "execution_count": 4,
   "source": [
    "# Resize, Crop an image\r\n",
    "import cv2 as cv\r\n",
    "img = cv.imread('mango.jpeg')\r\n",
    "scale = 0.8\r\n",
    "height, width = int(img.shape[0]*scale), int(img.shape[1]*scale)\r\n",
    "img_cropped = cv.resize(img, (height, width))\r\n",
    "cv.imshow('Original', img)\r\n",
    "cv.imshow('resizedCropped', img[100:500, 300:600])\r\n",
    "cv.waitKey(0)"
   ],
   "outputs": [
    {
     "output_type": "execute_result",
     "data": {
      "text/plain": [
       "-1"
      ]
     },
     "metadata": {},
     "execution_count": 4
    }
   ],
   "metadata": {}
  },
  {
   "cell_type": "code",
   "execution_count": 3,
   "source": [
    "### Convert from BGR to Gray Scale\r\n",
    "img_gray = cv.cvtColor(img, cv.COLOR_BGR2GRAY)\r\n",
    "cv.imshow('Gray', img_gray)\r\n",
    "cv.waitKey(0)"
   ],
   "outputs": [
    {
     "output_type": "execute_result",
     "data": {
      "text/plain": [
       "-1"
      ]
     },
     "metadata": {},
     "execution_count": 3
    }
   ],
   "metadata": {}
  },
  {
   "cell_type": "code",
   "execution_count": 6,
   "source": [
    "### Image translation and rotation\r\n",
    "# 1) create a translation matrix\r\n",
    "# 2) Affine transformationw\r\n",
    "import numpy as np\r\n",
    "x, y = 100, -50\r\n",
    "translation_matrix = np.float32([[1, 0, x], [0, 1, y]]) # [[1, 0, magnitude], [0, 1, direction]]\r\n",
    "img_translated = cv.warpAffine(img, translation_matrix, (img.shape[1], img.shape[0])) # (width, height)\r\n",
    "cv.imshow('Translated', img_translated)\r\n",
    "cv.waitKey(0)"
   ],
   "outputs": [
    {
     "output_type": "execute_result",
     "data": {
      "text/plain": [
       "-1"
      ]
     },
     "metadata": {},
     "execution_count": 6
    }
   ],
   "metadata": {}
  },
  {
   "cell_type": "code",
   "execution_count": 9,
   "source": [
    "# Rotation\r\n",
    "# 1) Get center (point of rotation)\r\n",
    "# 2) Define Rotation Matrix --> getRotationMatrix2D()\r\n",
    "pointRot = img.shape[1]//2, img.shape[0]//2\r\n",
    "angle = 45\r\n",
    "scale = 0.5\r\n",
    "rotationMatrix = cv.getRotationMatrix2D(pointRot, angle, scale)\r\n",
    "rotated = cv.warpAffine(img, rotationMatrix, (img.shape[1], img.shape[0]))\r\n",
    "cv.imshow('Rotated', rotated)\r\n",
    "cv.waitKey(0)"
   ],
   "outputs": [
    {
     "output_type": "execute_result",
     "data": {
      "text/plain": [
       "-1"
      ]
     },
     "metadata": {},
     "execution_count": 9
    }
   ],
   "metadata": {}
  },
  {
   "cell_type": "code",
   "execution_count": 4,
   "source": [
    "# Bluring Images\r\n",
    "# 1) Initialize kernal size\r\n",
    "# 2) Initialize sigmaX --> Kernel's standard deviation in x direction\r\n",
    "k_size = (7, 7) # should be in odd numbers, higher number --> blurrier\r\n",
    "sigmaX = 0\r\n",
    "blurredImg = cv.GaussianBlur(img, k_size, sigmaX=sigmaX)\r\n",
    "cv.imshow('Blurred', blurredImg)\r\n",
    "cv.waitKey(0)"
   ],
   "outputs": [
    {
     "output_type": "execute_result",
     "data": {
      "text/plain": [
       "-1"
      ]
     },
     "metadata": {},
     "execution_count": 4
    }
   ],
   "metadata": {}
  },
  {
   "cell_type": "code",
   "execution_count": 12,
   "source": [
    "# Wrapping an Image\r\n",
    "# 1) Get points ---> use paint to get 4 corners of area to be extracted\r\n",
    "# 2) Create Perspective Matrix \r\n",
    "# 3) Wrape Image\r\n",
    "width, height = 400, 100\r\n",
    "ptsA = np.float32([[2, 226], [239, 196], [59, 304], [270, 262]])\r\n",
    "ptsB = np.float32([[0, 0], [width, 0], [0, height], [width, height]])\r\n",
    "matrix = cv.getPerspectiveTransform(ptsA, ptsB)\r\n",
    "print(matrix)\r\n",
    "extracted_img = cv.warpPerspective(img, matrix, (width, height))\r\n",
    "cv.imshow('Extracted', extracted_img)\r\n",
    "cv.waitKey(0)"
   ],
   "outputs": [
    {
     "output_type": "stream",
     "name": "stdout",
     "text": [
      "[[ 1.14045743e+00 -8.33411201e-01  1.86070017e+02]\n",
      " [ 1.24746465e-01  9.85497073e-01 -2.22971831e+02]\n",
      " [-7.88622067e-04 -3.73941107e-04  1.00000000e+00]]\n"
     ]
    },
    {
     "output_type": "execute_result",
     "data": {
      "text/plain": [
       "-1"
      ]
     },
     "metadata": {},
     "execution_count": 12
    }
   ],
   "metadata": {}
  },
  {
   "cell_type": "code",
   "execution_count": 14,
   "source": [
    "# Add Shapes\r\n",
    "# 1) Draw a circle: cv2.circle() -> 5 parameters: img, center, radius, color, circleThickness\r\n",
    "img = cv.imread('mango.jpeg')\r\n",
    "center = (321, 159)\r\n",
    "raduis = 140\r\n",
    "color = (0, 0, 255)\r\n",
    "circleThickness = 5\r\n",
    "img_circled = img.copy()\r\n",
    "cv.circle(img_circled, center, raduis, color, circleThickness)\r\n",
    "cv.imshow('Image with circle', img_circled)\r\n",
    "cv.waitKey(0)"
   ],
   "outputs": [
    {
     "output_type": "execute_result",
     "data": {
      "text/plain": [
       "-1"
      ]
     },
     "metadata": {},
     "execution_count": 14
    }
   ],
   "metadata": {}
  },
  {
   "cell_type": "code",
   "execution_count": 24,
   "source": [
    "# 2) Draw a rectangle: cv2.rectangle() -> 5 parameters: img, leftTopCorner, rightBottomCorner, color, rectangleThickness\r\n",
    "leftTopCorner = (208, 20)\r\n",
    "rightBottomCorner = (457, 280)\r\n",
    "color = (0, 255, 0)\r\n",
    "rectangleThickness = 5\r\n",
    "img_rec = img.copy()\r\n",
    "cv.rectangle(img_rec, leftTopCorner, rightBottomCorner, color, rectangleThickness)\r\n",
    "cv.imshow('Image with rectangle', img_rec)\r\n",
    "cv.waitKey(0)"
   ],
   "outputs": [
    {
     "output_type": "execute_result",
     "data": {
      "text/plain": [
       "-1"
      ]
     },
     "metadata": {},
     "execution_count": 24
    }
   ],
   "metadata": {}
  },
  {
   "cell_type": "code",
   "execution_count": 28,
   "source": [
    "# 3) Draw a line: cv2.line() -> 5 parameters: img, startPoint, endPoint, color, lineThickness\r\n",
    "startPoint = (0, 0)\r\n",
    "endPoint = (474, 325)\r\n",
    "color = (0, 255, 0)\r\n",
    "lineThickness = 5\r\n",
    "img_line = img.copy()\r\n",
    "cv.line(img_line, startPoint, endPoint, color, lineThickness)\r\n",
    "cv.imshow('Image with line', img_line)\r\n",
    "cv.waitKey(0)"
   ],
   "outputs": [
    {
     "output_type": "execute_result",
     "data": {
      "text/plain": [
       "-1"
      ]
     },
     "metadata": {},
     "execution_count": 28
    }
   ],
   "metadata": {}
  },
  {
   "cell_type": "code",
   "execution_count": 27,
   "source": [
    "# Add Text: render image, add text, dispaly it\r\n",
    "img = cv.imread('mango.jpeg')\r\n",
    "text = 'Mango'\r\n",
    "startPt = (19, 38)\r\n",
    "color = (0, 0, 255) # red --> BGR\r\n",
    "fontSz = 1 # 15 px\r\n",
    "fontType = cv.FONT_HERSHEY_COMPLEX\r\n",
    "thickness = 1\r\n",
    "img_text = cv.putText(img, text, startPt, fontType, fontSz, color, thickness)\r\n",
    "cv.imshow('With Text', img_text)\r\n",
    "cv.waitKey(0)"
   ],
   "outputs": [
    {
     "output_type": "execute_result",
     "data": {
      "text/plain": [
       "-1"
      ]
     },
     "metadata": {},
     "execution_count": 27
    }
   ],
   "metadata": {}
  },
  {
   "cell_type": "code",
   "execution_count": 3,
   "source": [
    "# Split and Merge color Channels: Read image, Split color channels, Merge colors, Display image.\r\n",
    "b, g, r = cv.split(img)\r\n",
    "cv.imshow('R', r)\r\n",
    "cv.imshow('G', g)\r\n",
    "cv.imshow('B', b)\r\n",
    "cv.waitKey(0)"
   ],
   "outputs": [
    {
     "output_type": "execute_result",
     "data": {
      "text/plain": [
       "-1"
      ]
     },
     "metadata": {},
     "execution_count": 3
    }
   ],
   "metadata": {}
  },
  {
   "cell_type": "code",
   "execution_count": 4,
   "source": [
    "# Merge\r\n",
    "merged = cv.merge([b, g, r])\r\n",
    "cv.imshow('Merged', merged)\r\n",
    "cv.waitKey(0)"
   ],
   "outputs": [
    {
     "output_type": "execute_result",
     "data": {
      "text/plain": [
       "-1"
      ]
     },
     "metadata": {},
     "execution_count": 4
    }
   ],
   "metadata": {}
  },
  {
   "cell_type": "code",
   "execution_count": 5,
   "source": [
    "# Joining images horizontally and vertically --> images should be the same size.\r\n",
    "# horizontally\r\n",
    "imgHor = np.hstack((b, g))\r\n",
    "cv.imshow('Stacked horizontally', imgHor)\r\n",
    "cv.waitKey(0)"
   ],
   "outputs": [
    {
     "output_type": "execute_result",
     "data": {
      "text/plain": [
       "-1"
      ]
     },
     "metadata": {},
     "execution_count": 5
    }
   ],
   "metadata": {}
  },
  {
   "cell_type": "code",
   "execution_count": 6,
   "source": [
    "# vertically\r\n",
    "imgVer = np.vstack((b, g))\r\n",
    "cv.imshow('Stacked vertically', imgVer)\r\n",
    "cv.waitKey(0)"
   ],
   "outputs": [
    {
     "output_type": "execute_result",
     "data": {
      "text/plain": [
       "-1"
      ]
     },
     "metadata": {},
     "execution_count": 6
    }
   ],
   "metadata": {}
  },
  {
   "cell_type": "code",
   "execution_count": 8,
   "source": [
    "# Bitwise Operations\r\n",
    "blank = np.zeros((600, 600), dtype='uint8')\r\n",
    "rectangle = cv.rectangle(blank.copy(), (30, 30), (570, 570), 255, -1) # 255 --> white, -1 will fill the entire shape\r\n",
    "circle = cv.circle(blank.copy(), (300, 300), 300, 255, -1)\r\n",
    "cv.imshow('Rectangle', rectangle)\r\n",
    "cv.imshow('Circle', circle)\r\n",
    "cv.waitKey(0)"
   ],
   "outputs": [
    {
     "output_type": "execute_result",
     "data": {
      "text/plain": [
       "-1"
      ]
     },
     "metadata": {},
     "execution_count": 8
    }
   ],
   "metadata": {}
  },
  {
   "cell_type": "code",
   "execution_count": 9,
   "source": [
    "# Bitwise AND: intersecting regions\r\n",
    "and_bitwise = cv.bitwise_and(rectangle, circle)\r\n",
    "cv.imshow('Rectangle and Circle', and_bitwise)\r\n",
    "cv.waitKey(0)"
   ],
   "outputs": [
    {
     "output_type": "execute_result",
     "data": {
      "text/plain": [
       "-1"
      ]
     },
     "metadata": {},
     "execution_count": 9
    }
   ],
   "metadata": {}
  },
  {
   "cell_type": "code",
   "execution_count": 10,
   "source": [
    "# Bitwise OR: return intersecting and non intersecting regions\r\n",
    "or_bitwise = cv.bitwise_or(rectangle, circle)\r\n",
    "cv.imshow('Union', or_bitwise)\r\n",
    "cv.waitKey(0)"
   ],
   "outputs": [
    {
     "output_type": "execute_result",
     "data": {
      "text/plain": [
       "-1"
      ]
     },
     "metadata": {},
     "execution_count": 10
    }
   ],
   "metadata": {}
  },
  {
   "cell_type": "code",
   "execution_count": 11,
   "source": [
    "# Bitwise XOR: return non-intersecting\r\n",
    "xor_bitwise = cv.bitwise_xor(rectangle, circle)\r\n",
    "cv.imshow('Non-intersecting', xor_bitwise)\r\n",
    "cv.imshow('Non-intersecting', xor_bitwise)\r\n",
    "cv.waitKey(0)"
   ],
   "outputs": [
    {
     "output_type": "execute_result",
     "data": {
      "text/plain": [
       "-1"
      ]
     },
     "metadata": {},
     "execution_count": 11
    }
   ],
   "metadata": {}
  },
  {
   "cell_type": "code",
   "execution_count": 12,
   "source": [
    "# Bitwise NOT: Inverts Black and White\r\n",
    "not_bitwise = cv.bitwise_not(circle)\r\n",
    "cv.imshow('Inverted Circle', not_bitwise)\r\n",
    "cv.waitKey(0)"
   ],
   "outputs": [
    {
     "output_type": "execute_result",
     "data": {
      "text/plain": [
       "-1"
      ]
     },
     "metadata": {},
     "execution_count": 12
    }
   ],
   "metadata": {}
  },
  {
   "cell_type": "code",
   "execution_count": 23,
   "source": [
    "# Masking: Create mask, apply it, display image\r\n",
    "blank = np.zeros(img.shape[:2], dtype='uint8')\r\n",
    "# 1) Create crescent mask\r\n",
    "circle = cv.circle(blank.copy(), (blank.shape[1]//2 -50, blank.shape[0]//2+50), 100, 255, -1)\r\n",
    "cv.imshow('circle', circle)\r\n",
    "cv.waitKey(0)\r\n",
    "rectangle = cv.rectangle(blank.copy(), (3, 100), (blank.shape[1]//2 -50, blank.shape[0]//2+150), 255, -1)\r\n",
    "cv.imshow('Rectangle', rectangle)\r\n",
    "cv.waitKey(0)\r\n",
    "crescent = cv.bitwise_and(circle, rectangle)\r\n",
    "cv.imshow('Crescent', crescent)\r\n",
    "cv.waitKey(0)\r\n",
    "# 2) Apply MAsk\r\n",
    "masked = cv.bitwise_and(img, img , mask=crescent) # Input the same image twice\r\n",
    "cv.imshow('Masked', masked)\r\n",
    "cv.waitKey(0)"
   ],
   "outputs": [
    {
     "output_type": "execute_result",
     "data": {
      "text/plain": [
       "-1"
      ]
     },
     "metadata": {},
     "execution_count": 23
    }
   ],
   "metadata": {}
  },
  {
   "cell_type": "code",
   "execution_count": 40,
   "source": [
    "# Histogram Computation: calcHist --> 5 params: list of images, channels, mask, histSize, range(2nd is excluded)\r\n",
    "gray = cv.cvtColor(img, cv.COLOR_BGR2GRAY)\r\n",
    "cv.imshow('Gray', gray)\r\n",
    "cv.waitKey(0)\r\n",
    "grayHist = cv.calcHist([gray], [0], None, [256], [0,256])\r\n",
    "\r\n",
    "plt.subplot(111)\r\n",
    "plt.title('Grayscale Histogram')\r\n",
    "plt.xlabel('Intensity of Pixel')\r\n",
    "plt.ylabel('No. of Pixel')\r\n",
    "plt.plot(grayHist)\r\n",
    "plt.xlim([0,255])\r\n",
    "plt.show()\r\n",
    "\r\n",
    "plt.subplot(212) #212 --> 2: rows, 1: columns, 2: plot number\r\n",
    "plt.title('Color Histogram')\r\n",
    "plt.xlabel('Intensity of Pixel')\r\n",
    "plt.ylabel('NO. of Pixels')\r\n",
    "\r\n",
    "channels = ('b', 'g', 'r')\r\n",
    "for i, c in enumerate(channels):\r\n",
    "    hist = cv.calcHist([img], [i], None, [255], [0, 256])\r\n",
    "    plt.plot(hist, color=c)\r\n",
    "    plt.xlim([0, 255])\r\n",
    "plt.show()"
   ],
   "outputs": [
    {
     "output_type": "display_data",
     "data": {
      "text/plain": [
       "<Figure size 640x480 with 1 Axes>"
      ],
      "image/svg+xml": "<?xml version=\"1.0\" encoding=\"utf-8\" standalone=\"no\"?>\n<!DOCTYPE svg PUBLIC \"-//W3C//DTD SVG 1.1//EN\"\n  \"http://www.w3.org/Graphics/SVG/1.1/DTD/svg11.dtd\">\n<svg xmlns:xlink=\"http://www.w3.org/1999/xlink\" width=\"426.552022pt\" height=\"325.986375pt\" viewBox=\"0 0 426.552022 325.986375\" xmlns=\"http://www.w3.org/2000/svg\" version=\"1.1\">\n <metadata>\n  <rdf:RDF xmlns:dc=\"http://purl.org/dc/elements/1.1/\" xmlns:cc=\"http://creativecommons.org/ns#\" xmlns:rdf=\"http://www.w3.org/1999/02/22-rdf-syntax-ns#\">\n   <cc:Work>\n    <dc:type rdf:resource=\"http://purl.org/dc/dcmitype/StillImage\"/>\n    <dc:date>2023-08-31T03:42:00.210114</dc:date>\n    <dc:format>image/svg+xml</dc:format>\n    <dc:creator>\n     <cc:Agent>\n      <dc:title>Matplotlib v3.7.2, https://matplotlib.org/</dc:title>\n     </cc:Agent>\n    </dc:creator>\n   </cc:Work>\n  </rdf:RDF>\n </metadata>\n <defs>\n  <style type=\"text/css\">*{stroke-linejoin: round; stroke-linecap: butt}</style>\n </defs>\n <g id=\"figure_1\">\n  <g id=\"patch_1\">\n   <path d=\"M 0 325.986375 \nL 426.552022 325.986375 \nL 426.552022 0 \nL 0 0 \nz\n\" style=\"fill: #ffffff\"/>\n  </g>\n  <g id=\"axes_1\">\n   <g id=\"patch_2\">\n    <path d=\"M 59.690625 288.430125 \nL 416.810625 288.430125 \nL 416.810625 22.318125 \nL 59.690625 22.318125 \nz\n\" style=\"fill: #ffffff\"/>\n   </g>\n   <g id=\"matplotlib.axis_1\">\n    <g id=\"xtick_1\">\n     <g id=\"line2d_1\">\n      <defs>\n       <path id=\"m50e0729354\" d=\"M 0 0 \nL 0 3.5 \n\" style=\"stroke: #000000; stroke-width: 0.8\"/>\n      </defs>\n      <g>\n       <use xlink:href=\"#m50e0729354\" x=\"59.690625\" y=\"288.430125\" style=\"stroke: #000000; stroke-width: 0.8\"/>\n      </g>\n     </g>\n     <g id=\"text_1\">\n      <!-- 0 -->\n      <g transform=\"translate(56.509375 303.028562) scale(0.1 -0.1)\">\n       <defs>\n        <path id=\"DejaVuSans-30\" d=\"M 2034 4250 \nQ 1547 4250 1301 3770 \nQ 1056 3291 1056 2328 \nQ 1056 1369 1301 889 \nQ 1547 409 2034 409 \nQ 2525 409 2770 889 \nQ 3016 1369 3016 2328 \nQ 3016 3291 2770 3770 \nQ 2525 4250 2034 4250 \nz\nM 2034 4750 \nQ 2819 4750 3233 4129 \nQ 3647 3509 3647 2328 \nQ 3647 1150 3233 529 \nQ 2819 -91 2034 -91 \nQ 1250 -91 836 529 \nQ 422 1150 422 2328 \nQ 422 3509 836 4129 \nQ 1250 4750 2034 4750 \nz\n\" transform=\"scale(0.015625)\"/>\n       </defs>\n       <use xlink:href=\"#DejaVuSans-30\"/>\n      </g>\n     </g>\n    </g>\n    <g id=\"xtick_2\">\n     <g id=\"line2d_2\">\n      <g>\n       <use xlink:href=\"#m50e0729354\" x=\"129.714154\" y=\"288.430125\" style=\"stroke: #000000; stroke-width: 0.8\"/>\n      </g>\n     </g>\n     <g id=\"text_2\">\n      <!-- 50 -->\n      <g transform=\"translate(123.351654 303.028562) scale(0.1 -0.1)\">\n       <defs>\n        <path id=\"DejaVuSans-35\" d=\"M 691 4666 \nL 3169 4666 \nL 3169 4134 \nL 1269 4134 \nL 1269 2991 \nQ 1406 3038 1543 3061 \nQ 1681 3084 1819 3084 \nQ 2600 3084 3056 2656 \nQ 3513 2228 3513 1497 \nQ 3513 744 3044 326 \nQ 2575 -91 1722 -91 \nQ 1428 -91 1123 -41 \nQ 819 9 494 109 \nL 494 744 \nQ 775 591 1075 516 \nQ 1375 441 1709 441 \nQ 2250 441 2565 725 \nQ 2881 1009 2881 1497 \nQ 2881 1984 2565 2268 \nQ 2250 2553 1709 2553 \nQ 1456 2553 1204 2497 \nQ 953 2441 691 2322 \nL 691 4666 \nz\n\" transform=\"scale(0.015625)\"/>\n       </defs>\n       <use xlink:href=\"#DejaVuSans-35\"/>\n       <use xlink:href=\"#DejaVuSans-30\" x=\"63.623047\"/>\n      </g>\n     </g>\n    </g>\n    <g id=\"xtick_3\">\n     <g id=\"line2d_3\">\n      <g>\n       <use xlink:href=\"#m50e0729354\" x=\"199.737684\" y=\"288.430125\" style=\"stroke: #000000; stroke-width: 0.8\"/>\n      </g>\n     </g>\n     <g id=\"text_3\">\n      <!-- 100 -->\n      <g transform=\"translate(190.193934 303.028562) scale(0.1 -0.1)\">\n       <defs>\n        <path id=\"DejaVuSans-31\" d=\"M 794 531 \nL 1825 531 \nL 1825 4091 \nL 703 3866 \nL 703 4441 \nL 1819 4666 \nL 2450 4666 \nL 2450 531 \nL 3481 531 \nL 3481 0 \nL 794 0 \nL 794 531 \nz\n\" transform=\"scale(0.015625)\"/>\n       </defs>\n       <use xlink:href=\"#DejaVuSans-31\"/>\n       <use xlink:href=\"#DejaVuSans-30\" x=\"63.623047\"/>\n       <use xlink:href=\"#DejaVuSans-30\" x=\"127.246094\"/>\n      </g>\n     </g>\n    </g>\n    <g id=\"xtick_4\">\n     <g id=\"line2d_4\">\n      <g>\n       <use xlink:href=\"#m50e0729354\" x=\"269.761213\" y=\"288.430125\" style=\"stroke: #000000; stroke-width: 0.8\"/>\n      </g>\n     </g>\n     <g id=\"text_4\">\n      <!-- 150 -->\n      <g transform=\"translate(260.217463 303.028562) scale(0.1 -0.1)\">\n       <use xlink:href=\"#DejaVuSans-31\"/>\n       <use xlink:href=\"#DejaVuSans-35\" x=\"63.623047\"/>\n       <use xlink:href=\"#DejaVuSans-30\" x=\"127.246094\"/>\n      </g>\n     </g>\n    </g>\n    <g id=\"xtick_5\">\n     <g id=\"line2d_5\">\n      <g>\n       <use xlink:href=\"#m50e0729354\" x=\"339.784743\" y=\"288.430125\" style=\"stroke: #000000; stroke-width: 0.8\"/>\n      </g>\n     </g>\n     <g id=\"text_5\">\n      <!-- 200 -->\n      <g transform=\"translate(330.240993 303.028562) scale(0.1 -0.1)\">\n       <defs>\n        <path id=\"DejaVuSans-32\" d=\"M 1228 531 \nL 3431 531 \nL 3431 0 \nL 469 0 \nL 469 531 \nQ 828 903 1448 1529 \nQ 2069 2156 2228 2338 \nQ 2531 2678 2651 2914 \nQ 2772 3150 2772 3378 \nQ 2772 3750 2511 3984 \nQ 2250 4219 1831 4219 \nQ 1534 4219 1204 4116 \nQ 875 4013 500 3803 \nL 500 4441 \nQ 881 4594 1212 4672 \nQ 1544 4750 1819 4750 \nQ 2544 4750 2975 4387 \nQ 3406 4025 3406 3419 \nQ 3406 3131 3298 2873 \nQ 3191 2616 2906 2266 \nQ 2828 2175 2409 1742 \nQ 1991 1309 1228 531 \nz\n\" transform=\"scale(0.015625)\"/>\n       </defs>\n       <use xlink:href=\"#DejaVuSans-32\"/>\n       <use xlink:href=\"#DejaVuSans-30\" x=\"63.623047\"/>\n       <use xlink:href=\"#DejaVuSans-30\" x=\"127.246094\"/>\n      </g>\n     </g>\n    </g>\n    <g id=\"xtick_6\">\n     <g id=\"line2d_6\">\n      <g>\n       <use xlink:href=\"#m50e0729354\" x=\"409.808272\" y=\"288.430125\" style=\"stroke: #000000; stroke-width: 0.8\"/>\n      </g>\n     </g>\n     <g id=\"text_6\">\n      <!-- 250 -->\n      <g transform=\"translate(400.264522 303.028562) scale(0.1 -0.1)\">\n       <use xlink:href=\"#DejaVuSans-32\"/>\n       <use xlink:href=\"#DejaVuSans-35\" x=\"63.623047\"/>\n       <use xlink:href=\"#DejaVuSans-30\" x=\"127.246094\"/>\n      </g>\n     </g>\n    </g>\n    <g id=\"text_7\">\n     <!-- Intensity of Pixel -->\n     <g transform=\"translate(196.930313 316.706687) scale(0.1 -0.1)\">\n      <defs>\n       <path id=\"DejaVuSans-49\" d=\"M 628 4666 \nL 1259 4666 \nL 1259 0 \nL 628 0 \nL 628 4666 \nz\n\" transform=\"scale(0.015625)\"/>\n       <path id=\"DejaVuSans-6e\" d=\"M 3513 2113 \nL 3513 0 \nL 2938 0 \nL 2938 2094 \nQ 2938 2591 2744 2837 \nQ 2550 3084 2163 3084 \nQ 1697 3084 1428 2787 \nQ 1159 2491 1159 1978 \nL 1159 0 \nL 581 0 \nL 581 3500 \nL 1159 3500 \nL 1159 2956 \nQ 1366 3272 1645 3428 \nQ 1925 3584 2291 3584 \nQ 2894 3584 3203 3211 \nQ 3513 2838 3513 2113 \nz\n\" transform=\"scale(0.015625)\"/>\n       <path id=\"DejaVuSans-74\" d=\"M 1172 4494 \nL 1172 3500 \nL 2356 3500 \nL 2356 3053 \nL 1172 3053 \nL 1172 1153 \nQ 1172 725 1289 603 \nQ 1406 481 1766 481 \nL 2356 481 \nL 2356 0 \nL 1766 0 \nQ 1100 0 847 248 \nQ 594 497 594 1153 \nL 594 3053 \nL 172 3053 \nL 172 3500 \nL 594 3500 \nL 594 4494 \nL 1172 4494 \nz\n\" transform=\"scale(0.015625)\"/>\n       <path id=\"DejaVuSans-65\" d=\"M 3597 1894 \nL 3597 1613 \nL 953 1613 \nQ 991 1019 1311 708 \nQ 1631 397 2203 397 \nQ 2534 397 2845 478 \nQ 3156 559 3463 722 \nL 3463 178 \nQ 3153 47 2828 -22 \nQ 2503 -91 2169 -91 \nQ 1331 -91 842 396 \nQ 353 884 353 1716 \nQ 353 2575 817 3079 \nQ 1281 3584 2069 3584 \nQ 2775 3584 3186 3129 \nQ 3597 2675 3597 1894 \nz\nM 3022 2063 \nQ 3016 2534 2758 2815 \nQ 2500 3097 2075 3097 \nQ 1594 3097 1305 2825 \nQ 1016 2553 972 2059 \nL 3022 2063 \nz\n\" transform=\"scale(0.015625)\"/>\n       <path id=\"DejaVuSans-73\" d=\"M 2834 3397 \nL 2834 2853 \nQ 2591 2978 2328 3040 \nQ 2066 3103 1784 3103 \nQ 1356 3103 1142 2972 \nQ 928 2841 928 2578 \nQ 928 2378 1081 2264 \nQ 1234 2150 1697 2047 \nL 1894 2003 \nQ 2506 1872 2764 1633 \nQ 3022 1394 3022 966 \nQ 3022 478 2636 193 \nQ 2250 -91 1575 -91 \nQ 1294 -91 989 -36 \nQ 684 19 347 128 \nL 347 722 \nQ 666 556 975 473 \nQ 1284 391 1588 391 \nQ 1994 391 2212 530 \nQ 2431 669 2431 922 \nQ 2431 1156 2273 1281 \nQ 2116 1406 1581 1522 \nL 1381 1569 \nQ 847 1681 609 1914 \nQ 372 2147 372 2553 \nQ 372 3047 722 3315 \nQ 1072 3584 1716 3584 \nQ 2034 3584 2315 3537 \nQ 2597 3491 2834 3397 \nz\n\" transform=\"scale(0.015625)\"/>\n       <path id=\"DejaVuSans-69\" d=\"M 603 3500 \nL 1178 3500 \nL 1178 0 \nL 603 0 \nL 603 3500 \nz\nM 603 4863 \nL 1178 4863 \nL 1178 4134 \nL 603 4134 \nL 603 4863 \nz\n\" transform=\"scale(0.015625)\"/>\n       <path id=\"DejaVuSans-79\" d=\"M 2059 -325 \nQ 1816 -950 1584 -1140 \nQ 1353 -1331 966 -1331 \nL 506 -1331 \nL 506 -850 \nL 844 -850 \nQ 1081 -850 1212 -737 \nQ 1344 -625 1503 -206 \nL 1606 56 \nL 191 3500 \nL 800 3500 \nL 1894 763 \nL 2988 3500 \nL 3597 3500 \nL 2059 -325 \nz\n\" transform=\"scale(0.015625)\"/>\n       <path id=\"DejaVuSans-20\" transform=\"scale(0.015625)\"/>\n       <path id=\"DejaVuSans-6f\" d=\"M 1959 3097 \nQ 1497 3097 1228 2736 \nQ 959 2375 959 1747 \nQ 959 1119 1226 758 \nQ 1494 397 1959 397 \nQ 2419 397 2687 759 \nQ 2956 1122 2956 1747 \nQ 2956 2369 2687 2733 \nQ 2419 3097 1959 3097 \nz\nM 1959 3584 \nQ 2709 3584 3137 3096 \nQ 3566 2609 3566 1747 \nQ 3566 888 3137 398 \nQ 2709 -91 1959 -91 \nQ 1206 -91 779 398 \nQ 353 888 353 1747 \nQ 353 2609 779 3096 \nQ 1206 3584 1959 3584 \nz\n\" transform=\"scale(0.015625)\"/>\n       <path id=\"DejaVuSans-66\" d=\"M 2375 4863 \nL 2375 4384 \nL 1825 4384 \nQ 1516 4384 1395 4259 \nQ 1275 4134 1275 3809 \nL 1275 3500 \nL 2222 3500 \nL 2222 3053 \nL 1275 3053 \nL 1275 0 \nL 697 0 \nL 697 3053 \nL 147 3053 \nL 147 3500 \nL 697 3500 \nL 697 3744 \nQ 697 4328 969 4595 \nQ 1241 4863 1831 4863 \nL 2375 4863 \nz\n\" transform=\"scale(0.015625)\"/>\n       <path id=\"DejaVuSans-50\" d=\"M 1259 4147 \nL 1259 2394 \nL 2053 2394 \nQ 2494 2394 2734 2622 \nQ 2975 2850 2975 3272 \nQ 2975 3691 2734 3919 \nQ 2494 4147 2053 4147 \nL 1259 4147 \nz\nM 628 4666 \nL 2053 4666 \nQ 2838 4666 3239 4311 \nQ 3641 3956 3641 3272 \nQ 3641 2581 3239 2228 \nQ 2838 1875 2053 1875 \nL 1259 1875 \nL 1259 0 \nL 628 0 \nL 628 4666 \nz\n\" transform=\"scale(0.015625)\"/>\n       <path id=\"DejaVuSans-78\" d=\"M 3513 3500 \nL 2247 1797 \nL 3578 0 \nL 2900 0 \nL 1881 1375 \nL 863 0 \nL 184 0 \nL 1544 1831 \nL 300 3500 \nL 978 3500 \nL 1906 2253 \nL 2834 3500 \nL 3513 3500 \nz\n\" transform=\"scale(0.015625)\"/>\n       <path id=\"DejaVuSans-6c\" d=\"M 603 4863 \nL 1178 4863 \nL 1178 0 \nL 603 0 \nL 603 4863 \nz\n\" transform=\"scale(0.015625)\"/>\n      </defs>\n      <use xlink:href=\"#DejaVuSans-49\"/>\n      <use xlink:href=\"#DejaVuSans-6e\" x=\"29.492188\"/>\n      <use xlink:href=\"#DejaVuSans-74\" x=\"92.871094\"/>\n      <use xlink:href=\"#DejaVuSans-65\" x=\"132.080078\"/>\n      <use xlink:href=\"#DejaVuSans-6e\" x=\"193.603516\"/>\n      <use xlink:href=\"#DejaVuSans-73\" x=\"256.982422\"/>\n      <use xlink:href=\"#DejaVuSans-69\" x=\"309.082031\"/>\n      <use xlink:href=\"#DejaVuSans-74\" x=\"336.865234\"/>\n      <use xlink:href=\"#DejaVuSans-79\" x=\"376.074219\"/>\n      <use xlink:href=\"#DejaVuSans-20\" x=\"435.253906\"/>\n      <use xlink:href=\"#DejaVuSans-6f\" x=\"467.041016\"/>\n      <use xlink:href=\"#DejaVuSans-66\" x=\"528.222656\"/>\n      <use xlink:href=\"#DejaVuSans-20\" x=\"563.427734\"/>\n      <use xlink:href=\"#DejaVuSans-50\" x=\"595.214844\"/>\n      <use xlink:href=\"#DejaVuSans-69\" x=\"653.267578\"/>\n      <use xlink:href=\"#DejaVuSans-78\" x=\"681.050781\"/>\n      <use xlink:href=\"#DejaVuSans-65\" x=\"737.105469\"/>\n      <use xlink:href=\"#DejaVuSans-6c\" x=\"798.628906\"/>\n     </g>\n    </g>\n   </g>\n   <g id=\"matplotlib.axis_2\">\n    <g id=\"ytick_1\">\n     <g id=\"line2d_7\">\n      <defs>\n       <path id=\"m4e33a974c9\" d=\"M 0 0 \nL -3.5 0 \n\" style=\"stroke: #000000; stroke-width: 0.8\"/>\n      </defs>\n      <g>\n       <use xlink:href=\"#m4e33a974c9\" x=\"59.690625\" y=\"276.334125\" style=\"stroke: #000000; stroke-width: 0.8\"/>\n      </g>\n     </g>\n     <g id=\"text_8\">\n      <!-- 0 -->\n      <g transform=\"translate(46.328125 280.133344) scale(0.1 -0.1)\">\n       <use xlink:href=\"#DejaVuSans-30\"/>\n      </g>\n     </g>\n    </g>\n    <g id=\"ytick_2\">\n     <g id=\"line2d_8\">\n      <g>\n       <use xlink:href=\"#m4e33a974c9\" x=\"59.690625\" y=\"234.894566\" style=\"stroke: #000000; stroke-width: 0.8\"/>\n      </g>\n     </g>\n     <g id=\"text_9\">\n      <!-- 10000 -->\n      <g transform=\"translate(20.878125 238.693785) scale(0.1 -0.1)\">\n       <use xlink:href=\"#DejaVuSans-31\"/>\n       <use xlink:href=\"#DejaVuSans-30\" x=\"63.623047\"/>\n       <use xlink:href=\"#DejaVuSans-30\" x=\"127.246094\"/>\n       <use xlink:href=\"#DejaVuSans-30\" x=\"190.869141\"/>\n       <use xlink:href=\"#DejaVuSans-30\" x=\"254.492188\"/>\n      </g>\n     </g>\n    </g>\n    <g id=\"ytick_3\">\n     <g id=\"line2d_9\">\n      <g>\n       <use xlink:href=\"#m4e33a974c9\" x=\"59.690625\" y=\"193.455008\" style=\"stroke: #000000; stroke-width: 0.8\"/>\n      </g>\n     </g>\n     <g id=\"text_10\">\n      <!-- 20000 -->\n      <g transform=\"translate(20.878125 197.254226) scale(0.1 -0.1)\">\n       <use xlink:href=\"#DejaVuSans-32\"/>\n       <use xlink:href=\"#DejaVuSans-30\" x=\"63.623047\"/>\n       <use xlink:href=\"#DejaVuSans-30\" x=\"127.246094\"/>\n       <use xlink:href=\"#DejaVuSans-30\" x=\"190.869141\"/>\n       <use xlink:href=\"#DejaVuSans-30\" x=\"254.492188\"/>\n      </g>\n     </g>\n    </g>\n    <g id=\"ytick_4\">\n     <g id=\"line2d_10\">\n      <g>\n       <use xlink:href=\"#m4e33a974c9\" x=\"59.690625\" y=\"152.015449\" style=\"stroke: #000000; stroke-width: 0.8\"/>\n      </g>\n     </g>\n     <g id=\"text_11\">\n      <!-- 30000 -->\n      <g transform=\"translate(20.878125 155.814668) scale(0.1 -0.1)\">\n       <defs>\n        <path id=\"DejaVuSans-33\" d=\"M 2597 2516 \nQ 3050 2419 3304 2112 \nQ 3559 1806 3559 1356 \nQ 3559 666 3084 287 \nQ 2609 -91 1734 -91 \nQ 1441 -91 1130 -33 \nQ 819 25 488 141 \nL 488 750 \nQ 750 597 1062 519 \nQ 1375 441 1716 441 \nQ 2309 441 2620 675 \nQ 2931 909 2931 1356 \nQ 2931 1769 2642 2001 \nQ 2353 2234 1838 2234 \nL 1294 2234 \nL 1294 2753 \nL 1863 2753 \nQ 2328 2753 2575 2939 \nQ 2822 3125 2822 3475 \nQ 2822 3834 2567 4026 \nQ 2313 4219 1838 4219 \nQ 1578 4219 1281 4162 \nQ 984 4106 628 3988 \nL 628 4550 \nQ 988 4650 1302 4700 \nQ 1616 4750 1894 4750 \nQ 2613 4750 3031 4423 \nQ 3450 4097 3450 3541 \nQ 3450 3153 3228 2886 \nQ 3006 2619 2597 2516 \nz\n\" transform=\"scale(0.015625)\"/>\n       </defs>\n       <use xlink:href=\"#DejaVuSans-33\"/>\n       <use xlink:href=\"#DejaVuSans-30\" x=\"63.623047\"/>\n       <use xlink:href=\"#DejaVuSans-30\" x=\"127.246094\"/>\n       <use xlink:href=\"#DejaVuSans-30\" x=\"190.869141\"/>\n       <use xlink:href=\"#DejaVuSans-30\" x=\"254.492188\"/>\n      </g>\n     </g>\n    </g>\n    <g id=\"ytick_5\">\n     <g id=\"line2d_11\">\n      <g>\n       <use xlink:href=\"#m4e33a974c9\" x=\"59.690625\" y=\"110.57589\" style=\"stroke: #000000; stroke-width: 0.8\"/>\n      </g>\n     </g>\n     <g id=\"text_12\">\n      <!-- 40000 -->\n      <g transform=\"translate(20.878125 114.375109) scale(0.1 -0.1)\">\n       <defs>\n        <path id=\"DejaVuSans-34\" d=\"M 2419 4116 \nL 825 1625 \nL 2419 1625 \nL 2419 4116 \nz\nM 2253 4666 \nL 3047 4666 \nL 3047 1625 \nL 3713 1625 \nL 3713 1100 \nL 3047 1100 \nL 3047 0 \nL 2419 0 \nL 2419 1100 \nL 313 1100 \nL 313 1709 \nL 2253 4666 \nz\n\" transform=\"scale(0.015625)\"/>\n       </defs>\n       <use xlink:href=\"#DejaVuSans-34\"/>\n       <use xlink:href=\"#DejaVuSans-30\" x=\"63.623047\"/>\n       <use xlink:href=\"#DejaVuSans-30\" x=\"127.246094\"/>\n       <use xlink:href=\"#DejaVuSans-30\" x=\"190.869141\"/>\n       <use xlink:href=\"#DejaVuSans-30\" x=\"254.492188\"/>\n      </g>\n     </g>\n    </g>\n    <g id=\"ytick_6\">\n     <g id=\"line2d_12\">\n      <g>\n       <use xlink:href=\"#m4e33a974c9\" x=\"59.690625\" y=\"69.136331\" style=\"stroke: #000000; stroke-width: 0.8\"/>\n      </g>\n     </g>\n     <g id=\"text_13\">\n      <!-- 50000 -->\n      <g transform=\"translate(20.878125 72.93555) scale(0.1 -0.1)\">\n       <use xlink:href=\"#DejaVuSans-35\"/>\n       <use xlink:href=\"#DejaVuSans-30\" x=\"63.623047\"/>\n       <use xlink:href=\"#DejaVuSans-30\" x=\"127.246094\"/>\n       <use xlink:href=\"#DejaVuSans-30\" x=\"190.869141\"/>\n       <use xlink:href=\"#DejaVuSans-30\" x=\"254.492188\"/>\n      </g>\n     </g>\n    </g>\n    <g id=\"ytick_7\">\n     <g id=\"line2d_13\">\n      <g>\n       <use xlink:href=\"#m4e33a974c9\" x=\"59.690625\" y=\"27.696773\" style=\"stroke: #000000; stroke-width: 0.8\"/>\n      </g>\n     </g>\n     <g id=\"text_14\">\n      <!-- 60000 -->\n      <g transform=\"translate(20.878125 31.495991) scale(0.1 -0.1)\">\n       <defs>\n        <path id=\"DejaVuSans-36\" d=\"M 2113 2584 \nQ 1688 2584 1439 2293 \nQ 1191 2003 1191 1497 \nQ 1191 994 1439 701 \nQ 1688 409 2113 409 \nQ 2538 409 2786 701 \nQ 3034 994 3034 1497 \nQ 3034 2003 2786 2293 \nQ 2538 2584 2113 2584 \nz\nM 3366 4563 \nL 3366 3988 \nQ 3128 4100 2886 4159 \nQ 2644 4219 2406 4219 \nQ 1781 4219 1451 3797 \nQ 1122 3375 1075 2522 \nQ 1259 2794 1537 2939 \nQ 1816 3084 2150 3084 \nQ 2853 3084 3261 2657 \nQ 3669 2231 3669 1497 \nQ 3669 778 3244 343 \nQ 2819 -91 2113 -91 \nQ 1303 -91 875 529 \nQ 447 1150 447 2328 \nQ 447 3434 972 4092 \nQ 1497 4750 2381 4750 \nQ 2619 4750 2861 4703 \nQ 3103 4656 3366 4563 \nz\n\" transform=\"scale(0.015625)\"/>\n       </defs>\n       <use xlink:href=\"#DejaVuSans-36\"/>\n       <use xlink:href=\"#DejaVuSans-30\" x=\"63.623047\"/>\n       <use xlink:href=\"#DejaVuSans-30\" x=\"127.246094\"/>\n       <use xlink:href=\"#DejaVuSans-30\" x=\"190.869141\"/>\n       <use xlink:href=\"#DejaVuSans-30\" x=\"254.492188\"/>\n      </g>\n     </g>\n    </g>\n    <g id=\"text_15\">\n     <!-- No. of Pixel -->\n     <g transform=\"translate(14.798438 183.2335) rotate(-90) scale(0.1 -0.1)\">\n      <defs>\n       <path id=\"DejaVuSans-4e\" d=\"M 628 4666 \nL 1478 4666 \nL 3547 763 \nL 3547 4666 \nL 4159 4666 \nL 4159 0 \nL 3309 0 \nL 1241 3903 \nL 1241 0 \nL 628 0 \nL 628 4666 \nz\n\" transform=\"scale(0.015625)\"/>\n       <path id=\"DejaVuSans-2e\" d=\"M 684 794 \nL 1344 794 \nL 1344 0 \nL 684 0 \nL 684 794 \nz\n\" transform=\"scale(0.015625)\"/>\n      </defs>\n      <use xlink:href=\"#DejaVuSans-4e\"/>\n      <use xlink:href=\"#DejaVuSans-6f\" x=\"74.804688\"/>\n      <use xlink:href=\"#DejaVuSans-2e\" x=\"134.236328\"/>\n      <use xlink:href=\"#DejaVuSans-20\" x=\"166.023438\"/>\n      <use xlink:href=\"#DejaVuSans-6f\" x=\"197.810547\"/>\n      <use xlink:href=\"#DejaVuSans-66\" x=\"258.992188\"/>\n      <use xlink:href=\"#DejaVuSans-20\" x=\"294.197266\"/>\n      <use xlink:href=\"#DejaVuSans-50\" x=\"325.984375\"/>\n      <use xlink:href=\"#DejaVuSans-69\" x=\"384.037109\"/>\n      <use xlink:href=\"#DejaVuSans-78\" x=\"411.820312\"/>\n      <use xlink:href=\"#DejaVuSans-65\" x=\"467.875\"/>\n      <use xlink:href=\"#DejaVuSans-6c\" x=\"529.398438\"/>\n     </g>\n    </g>\n   </g>\n   <g id=\"line2d_14\">\n    <path d=\"M 59.690625 276.334125 \nL 108.707096 276.247102 \nL 114.308978 276.064768 \nL 129.714154 275.642084 \nL 131.114625 275.795411 \nL 132.515096 275.733251 \nL 133.915566 275.832706 \nL 138.116978 275.758115 \nL 147.920272 275.48047 \nL 152.121684 275.289848 \nL 153.522154 275.306424 \nL 154.922625 275.095082 \nL 157.723566 275.016347 \nL 159.124037 274.954188 \nL 161.924978 275.248409 \nL 164.725919 274.991483 \nL 166.12639 274.792573 \nL 167.52686 274.999771 \nL 171.728272 274.734558 \nL 173.128743 274.9459 \nL 180.131096 275.119946 \nL 187.133449 274.867165 \nL 188.533919 275.032923 \nL 189.93439 274.809149 \nL 191.33486 274.900316 \nL 194.135801 274.858877 \nL 195.536272 274.58952 \nL 196.936743 274.552224 \nL 198.337213 274.659967 \nL 201.138154 274.423761 \nL 202.538625 274.36989 \nL 203.939096 274.141972 \nL 206.740037 274.01351 \nL 208.140507 273.735865 \nL 209.540978 273.810456 \nL 212.341919 273.607402 \nL 213.74239 273.516235 \nL 215.14286 273.296605 \nL 216.543331 273.41678 \nL 217.943801 273.159855 \nL 219.344272 273.072832 \nL 222.145213 273.503803 \nL 223.545684 273.333901 \nL 226.346625 273.702713 \nL 229.147566 273.565962 \nL 231.948507 273.557675 \nL 234.749449 273.851895 \nL 237.55039 273.665417 \nL 238.95086 273.885047 \nL 240.351331 273.872615 \nL 241.751801 274.121253 \nL 243.152272 274.046661 \nL 244.552743 274.448625 \nL 245.953213 274.34917 \nL 247.353684 274.386466 \nL 250.154625 274.693118 \nL 252.955566 274.809149 \nL 254.356037 274.912748 \nL 255.756507 274.867165 \nL 259.957919 275.053643 \nL 261.35839 274.983195 \nL 262.75886 275.061931 \nL 266.960272 274.751134 \nL 268.360743 274.863021 \nL 269.761213 274.672399 \nL 271.161684 274.668255 \nL 272.562154 274.846445 \nL 273.962625 274.39061 \nL 275.363096 274.556368 \nL 276.763566 274.448625 \nL 278.164037 274.498353 \nL 279.564507 274.287011 \nL 280.964978 274.299443 \nL 282.365449 274.025942 \nL 283.765919 273.914055 \nL 286.56686 274.233139 \nL 287.967331 274.017654 \nL 293.569213 274.175124 \nL 308.97439 273.201294 \nL 310.37486 273.532811 \nL 313.175801 273.607402 \nL 314.576272 273.503803 \nL 315.976743 273.706857 \nL 317.377213 273.263454 \nL 318.777684 273.329757 \nL 320.178154 272.952657 \nL 322.979096 273.487227 \nL 324.379566 273.425068 \nL 325.780037 273.677849 \nL 327.180507 273.582538 \nL 328.580978 274.1917 \nL 329.981449 274.295299 \nL 332.78239 273.847751 \nL 334.18286 274.046661 \nL 335.583331 273.561819 \nL 336.983801 273.901623 \nL 338.384272 273.578394 \nL 341.185213 273.75244 \nL 342.585684 273.010672 \nL 343.986154 273.528667 \nL 345.386625 272.608709 \nL 346.787096 272.708164 \nL 348.187566 270.586458 \nL 349.588037 271.589296 \nL 352.388978 271.784061 \nL 353.789449 272.451238 \nL 355.189919 271.746766 \nL 356.59039 272.973377 \nL 359.391331 274.842301 \nL 363.592743 275.165529 \nL 367.794154 275.546773 \nL 371.995566 275.749827 \nL 373.396037 275.666948 \nL 380.39839 275.849282 \nL 387.400743 275.894866 \nL 390.201684 275.948737 \nL 391.602154 275.965313 \nL 393.002625 275.782979 \nL 394.403096 275.915585 \nL 397.204037 275.695956 \nL 398.604507 275.840994 \nL 400.004978 275.745683 \nL 401.405449 275.782979 \nL 402.805919 275.588213 \nL 404.20639 275.625509 \nL 407.007331 275.414167 \nL 408.407801 275.14481 \nL 409.808272 274.577088 \nL 411.208743 273.454076 \nL 412.609213 271.792349 \nL 414.009684 265.655151 \nL 415.410154 34.414125 \nL 416.810625 273.499659 \nL 416.810625 273.499659 \n\" clip-path=\"url(#pc474fd9046)\" style=\"fill: none; stroke: #1f77b4; stroke-width: 1.5; stroke-linecap: square\"/>\n   </g>\n   <g id=\"patch_3\">\n    <path d=\"M 59.690625 288.430125 \nL 59.690625 22.318125 \n\" style=\"fill: none; stroke: #000000; stroke-width: 0.8; stroke-linejoin: miter; stroke-linecap: square\"/>\n   </g>\n   <g id=\"patch_4\">\n    <path d=\"M 416.810625 288.430125 \nL 416.810625 22.318125 \n\" style=\"fill: none; stroke: #000000; stroke-width: 0.8; stroke-linejoin: miter; stroke-linecap: square\"/>\n   </g>\n   <g id=\"patch_5\">\n    <path d=\"M 59.690625 288.430125 \nL 416.810625 288.430125 \n\" style=\"fill: none; stroke: #000000; stroke-width: 0.8; stroke-linejoin: miter; stroke-linecap: square\"/>\n   </g>\n   <g id=\"patch_6\">\n    <path d=\"M 59.690625 22.318125 \nL 416.810625 22.318125 \n\" style=\"fill: none; stroke: #000000; stroke-width: 0.8; stroke-linejoin: miter; stroke-linecap: square\"/>\n   </g>\n   <g id=\"text_16\">\n    <!-- Grayscale Histogram -->\n    <g transform=\"translate(175.414688 16.318125) scale(0.12 -0.12)\">\n     <defs>\n      <path id=\"DejaVuSans-47\" d=\"M 3809 666 \nL 3809 1919 \nL 2778 1919 \nL 2778 2438 \nL 4434 2438 \nL 4434 434 \nQ 4069 175 3628 42 \nQ 3188 -91 2688 -91 \nQ 1594 -91 976 548 \nQ 359 1188 359 2328 \nQ 359 3472 976 4111 \nQ 1594 4750 2688 4750 \nQ 3144 4750 3555 4637 \nQ 3966 4525 4313 4306 \nL 4313 3634 \nQ 3963 3931 3569 4081 \nQ 3175 4231 2741 4231 \nQ 1884 4231 1454 3753 \nQ 1025 3275 1025 2328 \nQ 1025 1384 1454 906 \nQ 1884 428 2741 428 \nQ 3075 428 3337 486 \nQ 3600 544 3809 666 \nz\n\" transform=\"scale(0.015625)\"/>\n      <path id=\"DejaVuSans-72\" d=\"M 2631 2963 \nQ 2534 3019 2420 3045 \nQ 2306 3072 2169 3072 \nQ 1681 3072 1420 2755 \nQ 1159 2438 1159 1844 \nL 1159 0 \nL 581 0 \nL 581 3500 \nL 1159 3500 \nL 1159 2956 \nQ 1341 3275 1631 3429 \nQ 1922 3584 2338 3584 \nQ 2397 3584 2469 3576 \nQ 2541 3569 2628 3553 \nL 2631 2963 \nz\n\" transform=\"scale(0.015625)\"/>\n      <path id=\"DejaVuSans-61\" d=\"M 2194 1759 \nQ 1497 1759 1228 1600 \nQ 959 1441 959 1056 \nQ 959 750 1161 570 \nQ 1363 391 1709 391 \nQ 2188 391 2477 730 \nQ 2766 1069 2766 1631 \nL 2766 1759 \nL 2194 1759 \nz\nM 3341 1997 \nL 3341 0 \nL 2766 0 \nL 2766 531 \nQ 2569 213 2275 61 \nQ 1981 -91 1556 -91 \nQ 1019 -91 701 211 \nQ 384 513 384 1019 \nQ 384 1609 779 1909 \nQ 1175 2209 1959 2209 \nL 2766 2209 \nL 2766 2266 \nQ 2766 2663 2505 2880 \nQ 2244 3097 1772 3097 \nQ 1472 3097 1187 3025 \nQ 903 2953 641 2809 \nL 641 3341 \nQ 956 3463 1253 3523 \nQ 1550 3584 1831 3584 \nQ 2591 3584 2966 3190 \nQ 3341 2797 3341 1997 \nz\n\" transform=\"scale(0.015625)\"/>\n      <path id=\"DejaVuSans-63\" d=\"M 3122 3366 \nL 3122 2828 \nQ 2878 2963 2633 3030 \nQ 2388 3097 2138 3097 \nQ 1578 3097 1268 2742 \nQ 959 2388 959 1747 \nQ 959 1106 1268 751 \nQ 1578 397 2138 397 \nQ 2388 397 2633 464 \nQ 2878 531 3122 666 \nL 3122 134 \nQ 2881 22 2623 -34 \nQ 2366 -91 2075 -91 \nQ 1284 -91 818 406 \nQ 353 903 353 1747 \nQ 353 2603 823 3093 \nQ 1294 3584 2113 3584 \nQ 2378 3584 2631 3529 \nQ 2884 3475 3122 3366 \nz\n\" transform=\"scale(0.015625)\"/>\n      <path id=\"DejaVuSans-48\" d=\"M 628 4666 \nL 1259 4666 \nL 1259 2753 \nL 3553 2753 \nL 3553 4666 \nL 4184 4666 \nL 4184 0 \nL 3553 0 \nL 3553 2222 \nL 1259 2222 \nL 1259 0 \nL 628 0 \nL 628 4666 \nz\n\" transform=\"scale(0.015625)\"/>\n      <path id=\"DejaVuSans-67\" d=\"M 2906 1791 \nQ 2906 2416 2648 2759 \nQ 2391 3103 1925 3103 \nQ 1463 3103 1205 2759 \nQ 947 2416 947 1791 \nQ 947 1169 1205 825 \nQ 1463 481 1925 481 \nQ 2391 481 2648 825 \nQ 2906 1169 2906 1791 \nz\nM 3481 434 \nQ 3481 -459 3084 -895 \nQ 2688 -1331 1869 -1331 \nQ 1566 -1331 1297 -1286 \nQ 1028 -1241 775 -1147 \nL 775 -588 \nQ 1028 -725 1275 -790 \nQ 1522 -856 1778 -856 \nQ 2344 -856 2625 -561 \nQ 2906 -266 2906 331 \nL 2906 616 \nQ 2728 306 2450 153 \nQ 2172 0 1784 0 \nQ 1141 0 747 490 \nQ 353 981 353 1791 \nQ 353 2603 747 3093 \nQ 1141 3584 1784 3584 \nQ 2172 3584 2450 3431 \nQ 2728 3278 2906 2969 \nL 2906 3500 \nL 3481 3500 \nL 3481 434 \nz\n\" transform=\"scale(0.015625)\"/>\n      <path id=\"DejaVuSans-6d\" d=\"M 3328 2828 \nQ 3544 3216 3844 3400 \nQ 4144 3584 4550 3584 \nQ 5097 3584 5394 3201 \nQ 5691 2819 5691 2113 \nL 5691 0 \nL 5113 0 \nL 5113 2094 \nQ 5113 2597 4934 2840 \nQ 4756 3084 4391 3084 \nQ 3944 3084 3684 2787 \nQ 3425 2491 3425 1978 \nL 3425 0 \nL 2847 0 \nL 2847 2094 \nQ 2847 2600 2669 2842 \nQ 2491 3084 2119 3084 \nQ 1678 3084 1418 2786 \nQ 1159 2488 1159 1978 \nL 1159 0 \nL 581 0 \nL 581 3500 \nL 1159 3500 \nL 1159 2956 \nQ 1356 3278 1631 3431 \nQ 1906 3584 2284 3584 \nQ 2666 3584 2933 3390 \nQ 3200 3197 3328 2828 \nz\n\" transform=\"scale(0.015625)\"/>\n     </defs>\n     <use xlink:href=\"#DejaVuSans-47\"/>\n     <use xlink:href=\"#DejaVuSans-72\" x=\"77.490234\"/>\n     <use xlink:href=\"#DejaVuSans-61\" x=\"118.603516\"/>\n     <use xlink:href=\"#DejaVuSans-79\" x=\"179.882812\"/>\n     <use xlink:href=\"#DejaVuSans-73\" x=\"239.0625\"/>\n     <use xlink:href=\"#DejaVuSans-63\" x=\"291.162109\"/>\n     <use xlink:href=\"#DejaVuSans-61\" x=\"346.142578\"/>\n     <use xlink:href=\"#DejaVuSans-6c\" x=\"407.421875\"/>\n     <use xlink:href=\"#DejaVuSans-65\" x=\"435.205078\"/>\n     <use xlink:href=\"#DejaVuSans-20\" x=\"496.728516\"/>\n     <use xlink:href=\"#DejaVuSans-48\" x=\"528.515625\"/>\n     <use xlink:href=\"#DejaVuSans-69\" x=\"603.710938\"/>\n     <use xlink:href=\"#DejaVuSans-73\" x=\"631.494141\"/>\n     <use xlink:href=\"#DejaVuSans-74\" x=\"683.59375\"/>\n     <use xlink:href=\"#DejaVuSans-6f\" x=\"722.802734\"/>\n     <use xlink:href=\"#DejaVuSans-67\" x=\"783.984375\"/>\n     <use xlink:href=\"#DejaVuSans-72\" x=\"847.460938\"/>\n     <use xlink:href=\"#DejaVuSans-61\" x=\"888.574219\"/>\n     <use xlink:href=\"#DejaVuSans-6d\" x=\"949.853516\"/>\n    </g>\n   </g>\n  </g>\n </g>\n <defs>\n  <clipPath id=\"pc474fd9046\">\n   <rect x=\"59.690625\" y=\"22.318125\" width=\"357.12\" height=\"266.112\"/>\n  </clipPath>\n </defs>\n</svg>\n",
      "image/png": "[encoded data removed]"
     },
     "metadata": {}
    },
    {
     "output_type": "display_data",
     "data": {
      "text/plain": [
       "<Figure size 640x480 with 1 Axes>"
      ],
      "image/svg+xml": "<?xml version=\"1.0\" encoding=\"utf-8\" standalone=\"no\"?>\n<!DOCTYPE svg PUBLIC \"-//W3C//DTD SVG 1.1//EN\"\n  \"http://www.w3.org/Graphics/SVG/1.1/DTD/svg11.dtd\">\n<svg xmlns:xlink=\"http://www.w3.org/1999/xlink\" width=\"426.552022pt\" height=\"180.834375pt\" viewBox=\"0 0 426.552022 180.834375\" xmlns=\"http://www.w3.org/2000/svg\" version=\"1.1\">\n <metadata>\n  <rdf:RDF xmlns:dc=\"http://purl.org/dc/elements/1.1/\" xmlns:cc=\"http://creativecommons.org/ns#\" xmlns:rdf=\"http://www.w3.org/1999/02/22-rdf-syntax-ns#\">\n   <cc:Work>\n    <dc:type rdf:resource=\"http://purl.org/dc/dcmitype/StillImage\"/>\n    <dc:date>2023-08-31T03:42:00.518043</dc:date>\n    <dc:format>image/svg+xml</dc:format>\n    <dc:creator>\n     <cc:Agent>\n      <dc:title>Matplotlib v3.7.2, https://matplotlib.org/</dc:title>\n     </cc:Agent>\n    </dc:creator>\n   </cc:Work>\n  </rdf:RDF>\n </metadata>\n <defs>\n  <style type=\"text/css\">*{stroke-linejoin: round; stroke-linecap: butt}</style>\n </defs>\n <g id=\"figure_1\">\n  <g id=\"patch_1\">\n   <path d=\"M 0 180.834375 \nL 426.552022 180.834375 \nL 426.552022 0 \nL 0 0 \nz\n\" style=\"fill: #ffffff\"/>\n  </g>\n  <g id=\"axes_1\">\n   <g id=\"patch_2\">\n    <path d=\"M 59.690625 143.278125 \nL 416.810625 143.278125 \nL 416.810625 22.318125 \nL 59.690625 22.318125 \nz\n\" style=\"fill: #ffffff\"/>\n   </g>\n   <g id=\"matplotlib.axis_1\">\n    <g id=\"xtick_1\">\n     <g id=\"line2d_1\">\n      <defs>\n       <path id=\"ma7504ef7ed\" d=\"M 0 0 \nL 0 3.5 \n\" style=\"stroke: #000000; stroke-width: 0.8\"/>\n      </defs>\n      <g>\n       <use xlink:href=\"#ma7504ef7ed\" x=\"59.690625\" y=\"143.278125\" style=\"stroke: #000000; stroke-width: 0.8\"/>\n      </g>\n     </g>\n     <g id=\"text_1\">\n      <!-- 0 -->\n      <g transform=\"translate(56.509375 157.876563) scale(0.1 -0.1)\">\n       <defs>\n        <path id=\"DejaVuSans-30\" d=\"M 2034 4250 \nQ 1547 4250 1301 3770 \nQ 1056 3291 1056 2328 \nQ 1056 1369 1301 889 \nQ 1547 409 2034 409 \nQ 2525 409 2770 889 \nQ 3016 1369 3016 2328 \nQ 3016 3291 2770 3770 \nQ 2525 4250 2034 4250 \nz\nM 2034 4750 \nQ 2819 4750 3233 4129 \nQ 3647 3509 3647 2328 \nQ 3647 1150 3233 529 \nQ 2819 -91 2034 -91 \nQ 1250 -91 836 529 \nQ 422 1150 422 2328 \nQ 422 3509 836 4129 \nQ 1250 4750 2034 4750 \nz\n\" transform=\"scale(0.015625)\"/>\n       </defs>\n       <use xlink:href=\"#DejaVuSans-30\"/>\n      </g>\n     </g>\n    </g>\n    <g id=\"xtick_2\">\n     <g id=\"line2d_2\">\n      <g>\n       <use xlink:href=\"#ma7504ef7ed\" x=\"129.714154\" y=\"143.278125\" style=\"stroke: #000000; stroke-width: 0.8\"/>\n      </g>\n     </g>\n     <g id=\"text_2\">\n      <!-- 50 -->\n      <g transform=\"translate(123.351654 157.876563) scale(0.1 -0.1)\">\n       <defs>\n        <path id=\"DejaVuSans-35\" d=\"M 691 4666 \nL 3169 4666 \nL 3169 4134 \nL 1269 4134 \nL 1269 2991 \nQ 1406 3038 1543 3061 \nQ 1681 3084 1819 3084 \nQ 2600 3084 3056 2656 \nQ 3513 2228 3513 1497 \nQ 3513 744 3044 326 \nQ 2575 -91 1722 -91 \nQ 1428 -91 1123 -41 \nQ 819 9 494 109 \nL 494 744 \nQ 775 591 1075 516 \nQ 1375 441 1709 441 \nQ 2250 441 2565 725 \nQ 2881 1009 2881 1497 \nQ 2881 1984 2565 2268 \nQ 2250 2553 1709 2553 \nQ 1456 2553 1204 2497 \nQ 953 2441 691 2322 \nL 691 4666 \nz\n\" transform=\"scale(0.015625)\"/>\n       </defs>\n       <use xlink:href=\"#DejaVuSans-35\"/>\n       <use xlink:href=\"#DejaVuSans-30\" x=\"63.623047\"/>\n      </g>\n     </g>\n    </g>\n    <g id=\"xtick_3\">\n     <g id=\"line2d_3\">\n      <g>\n       <use xlink:href=\"#ma7504ef7ed\" x=\"199.737684\" y=\"143.278125\" style=\"stroke: #000000; stroke-width: 0.8\"/>\n      </g>\n     </g>\n     <g id=\"text_3\">\n      <!-- 100 -->\n      <g transform=\"translate(190.193934 157.876563) scale(0.1 -0.1)\">\n       <defs>\n        <path id=\"DejaVuSans-31\" d=\"M 794 531 \nL 1825 531 \nL 1825 4091 \nL 703 3866 \nL 703 4441 \nL 1819 4666 \nL 2450 4666 \nL 2450 531 \nL 3481 531 \nL 3481 0 \nL 794 0 \nL 794 531 \nz\n\" transform=\"scale(0.015625)\"/>\n       </defs>\n       <use xlink:href=\"#DejaVuSans-31\"/>\n       <use xlink:href=\"#DejaVuSans-30\" x=\"63.623047\"/>\n       <use xlink:href=\"#DejaVuSans-30\" x=\"127.246094\"/>\n      </g>\n     </g>\n    </g>\n    <g id=\"xtick_4\">\n     <g id=\"line2d_4\">\n      <g>\n       <use xlink:href=\"#ma7504ef7ed\" x=\"269.761213\" y=\"143.278125\" style=\"stroke: #000000; stroke-width: 0.8\"/>\n      </g>\n     </g>\n     <g id=\"text_4\">\n      <!-- 150 -->\n      <g transform=\"translate(260.217463 157.876563) scale(0.1 -0.1)\">\n       <use xlink:href=\"#DejaVuSans-31\"/>\n       <use xlink:href=\"#DejaVuSans-35\" x=\"63.623047\"/>\n       <use xlink:href=\"#DejaVuSans-30\" x=\"127.246094\"/>\n      </g>\n     </g>\n    </g>\n    <g id=\"xtick_5\">\n     <g id=\"line2d_5\">\n      <g>\n       <use xlink:href=\"#ma7504ef7ed\" x=\"339.784743\" y=\"143.278125\" style=\"stroke: #000000; stroke-width: 0.8\"/>\n      </g>\n     </g>\n     <g id=\"text_5\">\n      <!-- 200 -->\n      <g transform=\"translate(330.240993 157.876563) scale(0.1 -0.1)\">\n       <defs>\n        <path id=\"DejaVuSans-32\" d=\"M 1228 531 \nL 3431 531 \nL 3431 0 \nL 469 0 \nL 469 531 \nQ 828 903 1448 1529 \nQ 2069 2156 2228 2338 \nQ 2531 2678 2651 2914 \nQ 2772 3150 2772 3378 \nQ 2772 3750 2511 3984 \nQ 2250 4219 1831 4219 \nQ 1534 4219 1204 4116 \nQ 875 4013 500 3803 \nL 500 4441 \nQ 881 4594 1212 4672 \nQ 1544 4750 1819 4750 \nQ 2544 4750 2975 4387 \nQ 3406 4025 3406 3419 \nQ 3406 3131 3298 2873 \nQ 3191 2616 2906 2266 \nQ 2828 2175 2409 1742 \nQ 1991 1309 1228 531 \nz\n\" transform=\"scale(0.015625)\"/>\n       </defs>\n       <use xlink:href=\"#DejaVuSans-32\"/>\n       <use xlink:href=\"#DejaVuSans-30\" x=\"63.623047\"/>\n       <use xlink:href=\"#DejaVuSans-30\" x=\"127.246094\"/>\n      </g>\n     </g>\n    </g>\n    <g id=\"xtick_6\">\n     <g id=\"line2d_6\">\n      <g>\n       <use xlink:href=\"#ma7504ef7ed\" x=\"409.808272\" y=\"143.278125\" style=\"stroke: #000000; stroke-width: 0.8\"/>\n      </g>\n     </g>\n     <g id=\"text_6\">\n      <!-- 250 -->\n      <g transform=\"translate(400.264522 157.876563) scale(0.1 -0.1)\">\n       <use xlink:href=\"#DejaVuSans-32\"/>\n       <use xlink:href=\"#DejaVuSans-35\" x=\"63.623047\"/>\n       <use xlink:href=\"#DejaVuSans-30\" x=\"127.246094\"/>\n      </g>\n     </g>\n    </g>\n    <g id=\"text_7\">\n     <!-- Intensity of Pixel -->\n     <g transform=\"translate(196.930313 171.554688) scale(0.1 -0.1)\">\n      <defs>\n       <path id=\"DejaVuSans-49\" d=\"M 628 4666 \nL 1259 4666 \nL 1259 0 \nL 628 0 \nL 628 4666 \nz\n\" transform=\"scale(0.015625)\"/>\n       <path id=\"DejaVuSans-6e\" d=\"M 3513 2113 \nL 3513 0 \nL 2938 0 \nL 2938 2094 \nQ 2938 2591 2744 2837 \nQ 2550 3084 2163 3084 \nQ 1697 3084 1428 2787 \nQ 1159 2491 1159 1978 \nL 1159 0 \nL 581 0 \nL 581 3500 \nL 1159 3500 \nL 1159 2956 \nQ 1366 3272 1645 3428 \nQ 1925 3584 2291 3584 \nQ 2894 3584 3203 3211 \nQ 3513 2838 3513 2113 \nz\n\" transform=\"scale(0.015625)\"/>\n       <path id=\"DejaVuSans-74\" d=\"M 1172 4494 \nL 1172 3500 \nL 2356 3500 \nL 2356 3053 \nL 1172 3053 \nL 1172 1153 \nQ 1172 725 1289 603 \nQ 1406 481 1766 481 \nL 2356 481 \nL 2356 0 \nL 1766 0 \nQ 1100 0 847 248 \nQ 594 497 594 1153 \nL 594 3053 \nL 172 3053 \nL 172 3500 \nL 594 3500 \nL 594 4494 \nL 1172 4494 \nz\n\" transform=\"scale(0.015625)\"/>\n       <path id=\"DejaVuSans-65\" d=\"M 3597 1894 \nL 3597 1613 \nL 953 1613 \nQ 991 1019 1311 708 \nQ 1631 397 2203 397 \nQ 2534 397 2845 478 \nQ 3156 559 3463 722 \nL 3463 178 \nQ 3153 47 2828 -22 \nQ 2503 -91 2169 -91 \nQ 1331 -91 842 396 \nQ 353 884 353 1716 \nQ 353 2575 817 3079 \nQ 1281 3584 2069 3584 \nQ 2775 3584 3186 3129 \nQ 3597 2675 3597 1894 \nz\nM 3022 2063 \nQ 3016 2534 2758 2815 \nQ 2500 3097 2075 3097 \nQ 1594 3097 1305 2825 \nQ 1016 2553 972 2059 \nL 3022 2063 \nz\n\" transform=\"scale(0.015625)\"/>\n       <path id=\"DejaVuSans-73\" d=\"M 2834 3397 \nL 2834 2853 \nQ 2591 2978 2328 3040 \nQ 2066 3103 1784 3103 \nQ 1356 3103 1142 2972 \nQ 928 2841 928 2578 \nQ 928 2378 1081 2264 \nQ 1234 2150 1697 2047 \nL 1894 2003 \nQ 2506 1872 2764 1633 \nQ 3022 1394 3022 966 \nQ 3022 478 2636 193 \nQ 2250 -91 1575 -91 \nQ 1294 -91 989 -36 \nQ 684 19 347 128 \nL 347 722 \nQ 666 556 975 473 \nQ 1284 391 1588 391 \nQ 1994 391 2212 530 \nQ 2431 669 2431 922 \nQ 2431 1156 2273 1281 \nQ 2116 1406 1581 1522 \nL 1381 1569 \nQ 847 1681 609 1914 \nQ 372 2147 372 2553 \nQ 372 3047 722 3315 \nQ 1072 3584 1716 3584 \nQ 2034 3584 2315 3537 \nQ 2597 3491 2834 3397 \nz\n\" transform=\"scale(0.015625)\"/>\n       <path id=\"DejaVuSans-69\" d=\"M 603 3500 \nL 1178 3500 \nL 1178 0 \nL 603 0 \nL 603 3500 \nz\nM 603 4863 \nL 1178 4863 \nL 1178 4134 \nL 603 4134 \nL 603 4863 \nz\n\" transform=\"scale(0.015625)\"/>\n       <path id=\"DejaVuSans-79\" d=\"M 2059 -325 \nQ 1816 -950 1584 -1140 \nQ 1353 -1331 966 -1331 \nL 506 -1331 \nL 506 -850 \nL 844 -850 \nQ 1081 -850 1212 -737 \nQ 1344 -625 1503 -206 \nL 1606 56 \nL 191 3500 \nL 800 3500 \nL 1894 763 \nL 2988 3500 \nL 3597 3500 \nL 2059 -325 \nz\n\" transform=\"scale(0.015625)\"/>\n       <path id=\"DejaVuSans-20\" transform=\"scale(0.015625)\"/>\n       <path id=\"DejaVuSans-6f\" d=\"M 1959 3097 \nQ 1497 3097 1228 2736 \nQ 959 2375 959 1747 \nQ 959 1119 1226 758 \nQ 1494 397 1959 397 \nQ 2419 397 2687 759 \nQ 2956 1122 2956 1747 \nQ 2956 2369 2687 2733 \nQ 2419 3097 1959 3097 \nz\nM 1959 3584 \nQ 2709 3584 3137 3096 \nQ 3566 2609 3566 1747 \nQ 3566 888 3137 398 \nQ 2709 -91 1959 -91 \nQ 1206 -91 779 398 \nQ 353 888 353 1747 \nQ 353 2609 779 3096 \nQ 1206 3584 1959 3584 \nz\n\" transform=\"scale(0.015625)\"/>\n       <path id=\"DejaVuSans-66\" d=\"M 2375 4863 \nL 2375 4384 \nL 1825 4384 \nQ 1516 4384 1395 4259 \nQ 1275 4134 1275 3809 \nL 1275 3500 \nL 2222 3500 \nL 2222 3053 \nL 1275 3053 \nL 1275 0 \nL 697 0 \nL 697 3053 \nL 147 3053 \nL 147 3500 \nL 697 3500 \nL 697 3744 \nQ 697 4328 969 4595 \nQ 1241 4863 1831 4863 \nL 2375 4863 \nz\n\" transform=\"scale(0.015625)\"/>\n       <path id=\"DejaVuSans-50\" d=\"M 1259 4147 \nL 1259 2394 \nL 2053 2394 \nQ 2494 2394 2734 2622 \nQ 2975 2850 2975 3272 \nQ 2975 3691 2734 3919 \nQ 2494 4147 2053 4147 \nL 1259 4147 \nz\nM 628 4666 \nL 2053 4666 \nQ 2838 4666 3239 4311 \nQ 3641 3956 3641 3272 \nQ 3641 2581 3239 2228 \nQ 2838 1875 2053 1875 \nL 1259 1875 \nL 1259 0 \nL 628 0 \nL 628 4666 \nz\n\" transform=\"scale(0.015625)\"/>\n       <path id=\"DejaVuSans-78\" d=\"M 3513 3500 \nL 2247 1797 \nL 3578 0 \nL 2900 0 \nL 1881 1375 \nL 863 0 \nL 184 0 \nL 1544 1831 \nL 300 3500 \nL 978 3500 \nL 1906 2253 \nL 2834 3500 \nL 3513 3500 \nz\n\" transform=\"scale(0.015625)\"/>\n       <path id=\"DejaVuSans-6c\" d=\"M 603 4863 \nL 1178 4863 \nL 1178 0 \nL 603 0 \nL 603 4863 \nz\n\" transform=\"scale(0.015625)\"/>\n      </defs>\n      <use xlink:href=\"#DejaVuSans-49\"/>\n      <use xlink:href=\"#DejaVuSans-6e\" x=\"29.492188\"/>\n      <use xlink:href=\"#DejaVuSans-74\" x=\"92.871094\"/>\n      <use xlink:href=\"#DejaVuSans-65\" x=\"132.080078\"/>\n      <use xlink:href=\"#DejaVuSans-6e\" x=\"193.603516\"/>\n      <use xlink:href=\"#DejaVuSans-73\" x=\"256.982422\"/>\n      <use xlink:href=\"#DejaVuSans-69\" x=\"309.082031\"/>\n      <use xlink:href=\"#DejaVuSans-74\" x=\"336.865234\"/>\n      <use xlink:href=\"#DejaVuSans-79\" x=\"376.074219\"/>\n      <use xlink:href=\"#DejaVuSans-20\" x=\"435.253906\"/>\n      <use xlink:href=\"#DejaVuSans-6f\" x=\"467.041016\"/>\n      <use xlink:href=\"#DejaVuSans-66\" x=\"528.222656\"/>\n      <use xlink:href=\"#DejaVuSans-20\" x=\"563.427734\"/>\n      <use xlink:href=\"#DejaVuSans-50\" x=\"595.214844\"/>\n      <use xlink:href=\"#DejaVuSans-69\" x=\"653.267578\"/>\n      <use xlink:href=\"#DejaVuSans-78\" x=\"681.050781\"/>\n      <use xlink:href=\"#DejaVuSans-65\" x=\"737.105469\"/>\n      <use xlink:href=\"#DejaVuSans-6c\" x=\"798.628906\"/>\n     </g>\n    </g>\n   </g>\n   <g id=\"matplotlib.axis_2\">\n    <g id=\"ytick_1\">\n     <g id=\"line2d_7\">\n      <defs>\n       <path id=\"mb005833122\" d=\"M 0 0 \nL -3.5 0 \n\" style=\"stroke: #000000; stroke-width: 0.8\"/>\n      </defs>\n      <g>\n       <use xlink:href=\"#mb005833122\" x=\"59.690625\" y=\"137.779943\" style=\"stroke: #000000; stroke-width: 0.8\"/>\n      </g>\n     </g>\n     <g id=\"text_8\">\n      <!-- 0 -->\n      <g transform=\"translate(46.328125 141.579162) scale(0.1 -0.1)\">\n       <use xlink:href=\"#DejaVuSans-30\"/>\n      </g>\n     </g>\n    </g>\n    <g id=\"ytick_2\">\n     <g id=\"line2d_8\">\n      <g>\n       <use xlink:href=\"#mb005833122\" x=\"59.690625\" y=\"101.381401\" style=\"stroke: #000000; stroke-width: 0.8\"/>\n      </g>\n     </g>\n     <g id=\"text_9\">\n      <!-- 20000 -->\n      <g transform=\"translate(20.878125 105.18062) scale(0.1 -0.1)\">\n       <use xlink:href=\"#DejaVuSans-32\"/>\n       <use xlink:href=\"#DejaVuSans-30\" x=\"63.623047\"/>\n       <use xlink:href=\"#DejaVuSans-30\" x=\"127.246094\"/>\n       <use xlink:href=\"#DejaVuSans-30\" x=\"190.869141\"/>\n       <use xlink:href=\"#DejaVuSans-30\" x=\"254.492188\"/>\n      </g>\n     </g>\n    </g>\n    <g id=\"ytick_3\">\n     <g id=\"line2d_9\">\n      <g>\n       <use xlink:href=\"#mb005833122\" x=\"59.690625\" y=\"64.982858\" style=\"stroke: #000000; stroke-width: 0.8\"/>\n      </g>\n     </g>\n     <g id=\"text_10\">\n      <!-- 40000 -->\n      <g transform=\"translate(20.878125 68.782077) scale(0.1 -0.1)\">\n       <defs>\n        <path id=\"DejaVuSans-34\" d=\"M 2419 4116 \nL 825 1625 \nL 2419 1625 \nL 2419 4116 \nz\nM 2253 4666 \nL 3047 4666 \nL 3047 1625 \nL 3713 1625 \nL 3713 1100 \nL 3047 1100 \nL 3047 0 \nL 2419 0 \nL 2419 1100 \nL 313 1100 \nL 313 1709 \nL 2253 4666 \nz\n\" transform=\"scale(0.015625)\"/>\n       </defs>\n       <use xlink:href=\"#DejaVuSans-34\"/>\n       <use xlink:href=\"#DejaVuSans-30\" x=\"63.623047\"/>\n       <use xlink:href=\"#DejaVuSans-30\" x=\"127.246094\"/>\n       <use xlink:href=\"#DejaVuSans-30\" x=\"190.869141\"/>\n       <use xlink:href=\"#DejaVuSans-30\" x=\"254.492188\"/>\n      </g>\n     </g>\n    </g>\n    <g id=\"ytick_4\">\n     <g id=\"line2d_10\">\n      <g>\n       <use xlink:href=\"#mb005833122\" x=\"59.690625\" y=\"28.584316\" style=\"stroke: #000000; stroke-width: 0.8\"/>\n      </g>\n     </g>\n     <g id=\"text_11\">\n      <!-- 60000 -->\n      <g transform=\"translate(20.878125 32.383535) scale(0.1 -0.1)\">\n       <defs>\n        <path id=\"DejaVuSans-36\" d=\"M 2113 2584 \nQ 1688 2584 1439 2293 \nQ 1191 2003 1191 1497 \nQ 1191 994 1439 701 \nQ 1688 409 2113 409 \nQ 2538 409 2786 701 \nQ 3034 994 3034 1497 \nQ 3034 2003 2786 2293 \nQ 2538 2584 2113 2584 \nz\nM 3366 4563 \nL 3366 3988 \nQ 3128 4100 2886 4159 \nQ 2644 4219 2406 4219 \nQ 1781 4219 1451 3797 \nQ 1122 3375 1075 2522 \nQ 1259 2794 1537 2939 \nQ 1816 3084 2150 3084 \nQ 2853 3084 3261 2657 \nQ 3669 2231 3669 1497 \nQ 3669 778 3244 343 \nQ 2819 -91 2113 -91 \nQ 1303 -91 875 529 \nQ 447 1150 447 2328 \nQ 447 3434 972 4092 \nQ 1497 4750 2381 4750 \nQ 2619 4750 2861 4703 \nQ 3103 4656 3366 4563 \nz\n\" transform=\"scale(0.015625)\"/>\n       </defs>\n       <use xlink:href=\"#DejaVuSans-36\"/>\n       <use xlink:href=\"#DejaVuSans-30\" x=\"63.623047\"/>\n       <use xlink:href=\"#DejaVuSans-30\" x=\"127.246094\"/>\n       <use xlink:href=\"#DejaVuSans-30\" x=\"190.869141\"/>\n       <use xlink:href=\"#DejaVuSans-30\" x=\"254.492188\"/>\n      </g>\n     </g>\n    </g>\n    <g id=\"text_12\">\n     <!-- NO. of Pixels -->\n     <g transform=\"translate(14.798438 114.02625) rotate(-90) scale(0.1 -0.1)\">\n      <defs>\n       <path id=\"DejaVuSans-4e\" d=\"M 628 4666 \nL 1478 4666 \nL 3547 763 \nL 3547 4666 \nL 4159 4666 \nL 4159 0 \nL 3309 0 \nL 1241 3903 \nL 1241 0 \nL 628 0 \nL 628 4666 \nz\n\" transform=\"scale(0.015625)\"/>\n       <path id=\"DejaVuSans-4f\" d=\"M 2522 4238 \nQ 1834 4238 1429 3725 \nQ 1025 3213 1025 2328 \nQ 1025 1447 1429 934 \nQ 1834 422 2522 422 \nQ 3209 422 3611 934 \nQ 4013 1447 4013 2328 \nQ 4013 3213 3611 3725 \nQ 3209 4238 2522 4238 \nz\nM 2522 4750 \nQ 3503 4750 4090 4092 \nQ 4678 3434 4678 2328 \nQ 4678 1225 4090 567 \nQ 3503 -91 2522 -91 \nQ 1538 -91 948 565 \nQ 359 1222 359 2328 \nQ 359 3434 948 4092 \nQ 1538 4750 2522 4750 \nz\n\" transform=\"scale(0.015625)\"/>\n       <path id=\"DejaVuSans-2e\" d=\"M 684 794 \nL 1344 794 \nL 1344 0 \nL 684 0 \nL 684 794 \nz\n\" transform=\"scale(0.015625)\"/>\n      </defs>\n      <use xlink:href=\"#DejaVuSans-4e\"/>\n      <use xlink:href=\"#DejaVuSans-4f\" x=\"74.804688\"/>\n      <use xlink:href=\"#DejaVuSans-2e\" x=\"149.515625\"/>\n      <use xlink:href=\"#DejaVuSans-20\" x=\"181.302734\"/>\n      <use xlink:href=\"#DejaVuSans-6f\" x=\"213.089844\"/>\n      <use xlink:href=\"#DejaVuSans-66\" x=\"274.271484\"/>\n      <use xlink:href=\"#DejaVuSans-20\" x=\"309.476562\"/>\n      <use xlink:href=\"#DejaVuSans-50\" x=\"341.263672\"/>\n      <use xlink:href=\"#DejaVuSans-69\" x=\"399.316406\"/>\n      <use xlink:href=\"#DejaVuSans-78\" x=\"427.099609\"/>\n      <use xlink:href=\"#DejaVuSans-65\" x=\"483.154297\"/>\n      <use xlink:href=\"#DejaVuSans-6c\" x=\"544.677734\"/>\n      <use xlink:href=\"#DejaVuSans-73\" x=\"572.460938\"/>\n     </g>\n    </g>\n   </g>\n   <g id=\"line2d_11\">\n    <path d=\"M 59.690625 108.88678 \nL 61.091096 129.575712 \nL 62.491566 130.718626 \nL 63.892037 130.824182 \nL 65.292507 132.720546 \nL 68.093449 134.655128 \nL 69.493919 134.806182 \nL 73.695331 135.921798 \nL 75.095801 136.214806 \nL 76.496272 136.251204 \nL 77.896743 136.411358 \nL 79.297213 136.387699 \nL 80.697684 136.62247 \nL 82.098154 136.562412 \nL 84.899096 136.667968 \nL 86.299566 136.640669 \nL 89.100507 136.758964 \nL 97.503331 136.897279 \nL 107.306625 136.893639 \nL 111.508037 136.957336 \nL 112.908507 136.85724 \nL 115.709449 136.899098 \nL 119.91086 136.926397 \nL 121.311331 136.833581 \nL 124.112272 136.953696 \nL 126.913213 136.922758 \nL 129.714154 137.002834 \nL 133.915566 136.991915 \nL 136.716507 137.011934 \nL 139.517449 137.001014 \nL 142.31839 137.133869 \nL 149.320743 137.186647 \nL 153.522154 137.223045 \nL 156.323096 137.210306 \nL 184.332507 137.412318 \nL 189.93439 137.428697 \nL 229.147566 137.588851 \nL 237.55039 137.570652 \nL 247.353684 137.628889 \nL 250.154625 137.583391 \nL 252.955566 137.581571 \nL 258.557449 137.579751 \nL 311.775331 137.61069 \nL 327.180507 137.643449 \nL 341.185213 137.634349 \nL 348.187566 137.650728 \nL 369.194625 137.61069 \nL 381.79886 137.625249 \nL 386.000272 137.561552 \nL 391.602154 137.537893 \nL 395.803566 137.425057 \nL 397.204037 137.514234 \nL 398.604507 137.330421 \nL 401.405449 137.35044 \nL 405.60686 137.141149 \nL 407.007331 136.720746 \nL 408.407801 135.759824 \nL 409.808272 136.884539 \nL 411.208743 134.782523 \nL 412.609213 136.831761 \nL 414.009684 40.390183 \nL 415.410154 130.838741 \nL 415.410154 130.838741 \n\" clip-path=\"url(#p66e6a83b07)\" style=\"fill: none; stroke: #0000ff; stroke-width: 1.5; stroke-linecap: square\"/>\n   </g>\n   <g id=\"line2d_12\">\n    <path d=\"M 59.690625 137.548812 \nL 61.091096 137.701686 \nL 101.704743 137.377739 \nL 125.512743 137.419598 \nL 129.714154 137.303122 \nL 131.114625 137.346801 \nL 133.915566 137.253984 \nL 143.71886 137.179367 \nL 159.124037 136.937317 \nL 163.325449 136.900918 \nL 164.725919 136.819022 \nL 166.12639 136.893639 \nL 167.52686 136.837221 \nL 168.927331 136.993735 \nL 192.735331 137.310402 \nL 195.536272 137.304942 \nL 215.14286 137.310402 \nL 217.943801 137.35772 \nL 251.555096 136.62247 \nL 252.955566 136.513274 \nL 257.156978 136.60427 \nL 259.957919 136.60973 \nL 271.161684 136.919118 \nL 275.363096 136.904558 \nL 278.164037 137.028313 \nL 308.97439 136.948236 \nL 311.775331 136.966436 \nL 313.175801 136.891819 \nL 314.576272 136.968256 \nL 318.777684 136.780803 \nL 321.578625 136.959156 \nL 324.379566 136.940957 \nL 325.780037 136.826301 \nL 339.784743 137.135689 \nL 342.585684 137.084731 \nL 345.386625 137.090191 \nL 355.189919 137.10839 \nL 357.99086 136.924577 \nL 360.791801 136.977355 \nL 362.192272 137.013754 \nL 363.592743 136.691627 \nL 364.993213 136.718926 \nL 366.393684 136.422278 \nL 369.194625 136.10379 \nL 370.595096 136.198427 \nL 371.995566 136.658868 \nL 373.396037 136.511454 \nL 377.597449 136.824481 \nL 378.997919 136.447757 \nL 380.39839 136.677067 \nL 381.79886 137.050152 \nL 384.599801 137.394119 \nL 387.400743 137.406858 \nL 393.002625 137.434157 \nL 401.405449 137.441437 \nL 405.60686 137.321322 \nL 408.407801 136.997375 \nL 409.808272 136.698906 \nL 411.208743 135.85446 \nL 412.609213 134.138269 \nL 414.009684 36.590175 \nL 415.410154 130.11077 \nL 415.410154 130.11077 \n\" clip-path=\"url(#p66e6a83b07)\" style=\"fill: none; stroke: #008000; stroke-width: 1.5; stroke-linecap: square\"/>\n   </g>\n   <g id=\"line2d_13\">\n    <path d=\"M 59.690625 137.779943 \nL 191.33486 137.683487 \nL 198.337213 137.537893 \nL 202.538625 137.512414 \nL 209.540978 137.343161 \nL 210.941449 137.34862 \nL 212.341919 137.195747 \nL 226.346625 137.073811 \nL 229.147566 137.031953 \nL 236.149919 137.141149 \nL 237.55039 137.051972 \nL 244.552743 137.235785 \nL 254.356037 137.264904 \nL 257.156978 137.383199 \nL 264.159331 137.35408 \nL 269.761213 137.377739 \nL 271.161684 137.315862 \nL 272.562154 137.395939 \nL 273.962625 137.314042 \nL 278.164037 137.323141 \nL 282.365449 137.294023 \nL 286.56686 137.315862 \nL 293.569213 137.177547 \nL 296.370154 137.195747 \nL 304.772978 137.226685 \nL 313.175801 137.048332 \nL 314.576272 137.092011 \nL 315.976743 136.971896 \nL 317.377213 137.030133 \nL 318.777684 136.944597 \nL 320.178154 137.015574 \nL 324.379566 136.8627 \nL 325.780037 136.879079 \nL 328.580978 136.711646 \nL 331.381919 136.709826 \nL 334.18286 136.698906 \nL 335.583331 136.746225 \nL 336.983801 136.649768 \nL 338.384272 136.769884 \nL 339.784743 136.731665 \nL 341.185213 136.85178 \nL 343.986154 136.795363 \nL 349.588037 136.971896 \nL 355.189919 137.004654 \nL 360.791801 137.041053 \nL 367.794154 136.944597 \nL 370.595096 137.062892 \nL 371.995566 136.980995 \nL 373.396037 137.097471 \nL 383.199331 137.046513 \nL 386.000272 137.126589 \nL 390.201684 137.070172 \nL 394.403096 137.057432 \nL 395.803566 136.928217 \nL 398.604507 136.975535 \nL 405.60686 135.887219 \nL 407.007331 135.313942 \nL 408.407801 134.211066 \nL 409.808272 132.229165 \nL 411.208743 130.61307 \nL 412.609213 126.429058 \nL 414.009684 27.816307 \nL 415.410154 100.757166 \nL 415.410154 100.757166 \n\" clip-path=\"url(#p66e6a83b07)\" style=\"fill: none; stroke: #ff0000; stroke-width: 1.5; stroke-linecap: square\"/>\n   </g>\n   <g id=\"patch_3\">\n    <path d=\"M 59.690625 143.278125 \nL 59.690625 22.318125 \n\" style=\"fill: none; stroke: #000000; stroke-width: 0.8; stroke-linejoin: miter; stroke-linecap: square\"/>\n   </g>\n   <g id=\"patch_4\">\n    <path d=\"M 416.810625 143.278125 \nL 416.810625 22.318125 \n\" style=\"fill: none; stroke: #000000; stroke-width: 0.8; stroke-linejoin: miter; stroke-linecap: square\"/>\n   </g>\n   <g id=\"patch_5\">\n    <path d=\"M 59.690625 143.278125 \nL 416.810625 143.278125 \n\" style=\"fill: none; stroke: #000000; stroke-width: 0.8; stroke-linejoin: miter; stroke-linecap: square\"/>\n   </g>\n   <g id=\"patch_6\">\n    <path d=\"M 59.690625 22.318125 \nL 416.810625 22.318125 \n\" style=\"fill: none; stroke: #000000; stroke-width: 0.8; stroke-linejoin: miter; stroke-linecap: square\"/>\n   </g>\n   <g id=\"text_13\">\n    <!-- Color Histogram -->\n    <g transform=\"translate(189.553125 16.318125) scale(0.12 -0.12)\">\n     <defs>\n      <path id=\"DejaVuSans-43\" d=\"M 4122 4306 \nL 4122 3641 \nQ 3803 3938 3442 4084 \nQ 3081 4231 2675 4231 \nQ 1875 4231 1450 3742 \nQ 1025 3253 1025 2328 \nQ 1025 1406 1450 917 \nQ 1875 428 2675 428 \nQ 3081 428 3442 575 \nQ 3803 722 4122 1019 \nL 4122 359 \nQ 3791 134 3420 21 \nQ 3050 -91 2638 -91 \nQ 1578 -91 968 557 \nQ 359 1206 359 2328 \nQ 359 3453 968 4101 \nQ 1578 4750 2638 4750 \nQ 3056 4750 3426 4639 \nQ 3797 4528 4122 4306 \nz\n\" transform=\"scale(0.015625)\"/>\n      <path id=\"DejaVuSans-72\" d=\"M 2631 2963 \nQ 2534 3019 2420 3045 \nQ 2306 3072 2169 3072 \nQ 1681 3072 1420 2755 \nQ 1159 2438 1159 1844 \nL 1159 0 \nL 581 0 \nL 581 3500 \nL 1159 3500 \nL 1159 2956 \nQ 1341 3275 1631 3429 \nQ 1922 3584 2338 3584 \nQ 2397 3584 2469 3576 \nQ 2541 3569 2628 3553 \nL 2631 2963 \nz\n\" transform=\"scale(0.015625)\"/>\n      <path id=\"DejaVuSans-48\" d=\"M 628 4666 \nL 1259 4666 \nL 1259 2753 \nL 3553 2753 \nL 3553 4666 \nL 4184 4666 \nL 4184 0 \nL 3553 0 \nL 3553 2222 \nL 1259 2222 \nL 1259 0 \nL 628 0 \nL 628 4666 \nz\n\" transform=\"scale(0.015625)\"/>\n      <path id=\"DejaVuSans-67\" d=\"M 2906 1791 \nQ 2906 2416 2648 2759 \nQ 2391 3103 1925 3103 \nQ 1463 3103 1205 2759 \nQ 947 2416 947 1791 \nQ 947 1169 1205 825 \nQ 1463 481 1925 481 \nQ 2391 481 2648 825 \nQ 2906 1169 2906 1791 \nz\nM 3481 434 \nQ 3481 -459 3084 -895 \nQ 2688 -1331 1869 -1331 \nQ 1566 -1331 1297 -1286 \nQ 1028 -1241 775 -1147 \nL 775 -588 \nQ 1028 -725 1275 -790 \nQ 1522 -856 1778 -856 \nQ 2344 -856 2625 -561 \nQ 2906 -266 2906 331 \nL 2906 616 \nQ 2728 306 2450 153 \nQ 2172 0 1784 0 \nQ 1141 0 747 490 \nQ 353 981 353 1791 \nQ 353 2603 747 3093 \nQ 1141 3584 1784 3584 \nQ 2172 3584 2450 3431 \nQ 2728 3278 2906 2969 \nL 2906 3500 \nL 3481 3500 \nL 3481 434 \nz\n\" transform=\"scale(0.015625)\"/>\n      <path id=\"DejaVuSans-61\" d=\"M 2194 1759 \nQ 1497 1759 1228 1600 \nQ 959 1441 959 1056 \nQ 959 750 1161 570 \nQ 1363 391 1709 391 \nQ 2188 391 2477 730 \nQ 2766 1069 2766 1631 \nL 2766 1759 \nL 2194 1759 \nz\nM 3341 1997 \nL 3341 0 \nL 2766 0 \nL 2766 531 \nQ 2569 213 2275 61 \nQ 1981 -91 1556 -91 \nQ 1019 -91 701 211 \nQ 384 513 384 1019 \nQ 384 1609 779 1909 \nQ 1175 2209 1959 2209 \nL 2766 2209 \nL 2766 2266 \nQ 2766 2663 2505 2880 \nQ 2244 3097 1772 3097 \nQ 1472 3097 1187 3025 \nQ 903 2953 641 2809 \nL 641 3341 \nQ 956 3463 1253 3523 \nQ 1550 3584 1831 3584 \nQ 2591 3584 2966 3190 \nQ 3341 2797 3341 1997 \nz\n\" transform=\"scale(0.015625)\"/>\n      <path id=\"DejaVuSans-6d\" d=\"M 3328 2828 \nQ 3544 3216 3844 3400 \nQ 4144 3584 4550 3584 \nQ 5097 3584 5394 3201 \nQ 5691 2819 5691 2113 \nL 5691 0 \nL 5113 0 \nL 5113 2094 \nQ 5113 2597 4934 2840 \nQ 4756 3084 4391 3084 \nQ 3944 3084 3684 2787 \nQ 3425 2491 3425 1978 \nL 3425 0 \nL 2847 0 \nL 2847 2094 \nQ 2847 2600 2669 2842 \nQ 2491 3084 2119 3084 \nQ 1678 3084 1418 2786 \nQ 1159 2488 1159 1978 \nL 1159 0 \nL 581 0 \nL 581 3500 \nL 1159 3500 \nL 1159 2956 \nQ 1356 3278 1631 3431 \nQ 1906 3584 2284 3584 \nQ 2666 3584 2933 3390 \nQ 3200 3197 3328 2828 \nz\n\" transform=\"scale(0.015625)\"/>\n     </defs>\n     <use xlink:href=\"#DejaVuSans-43\"/>\n     <use xlink:href=\"#DejaVuSans-6f\" x=\"69.824219\"/>\n     <use xlink:href=\"#DejaVuSans-6c\" x=\"131.005859\"/>\n     <use xlink:href=\"#DejaVuSans-6f\" x=\"158.789062\"/>\n     <use xlink:href=\"#DejaVuSans-72\" x=\"219.970703\"/>\n     <use xlink:href=\"#DejaVuSans-20\" x=\"261.083984\"/>\n     <use xlink:href=\"#DejaVuSans-48\" x=\"292.871094\"/>\n     <use xlink:href=\"#DejaVuSans-69\" x=\"368.066406\"/>\n     <use xlink:href=\"#DejaVuSans-73\" x=\"395.849609\"/>\n     <use xlink:href=\"#DejaVuSans-74\" x=\"447.949219\"/>\n     <use xlink:href=\"#DejaVuSans-6f\" x=\"487.158203\"/>\n     <use xlink:href=\"#DejaVuSans-67\" x=\"548.339844\"/>\n     <use xlink:href=\"#DejaVuSans-72\" x=\"611.816406\"/>\n     <use xlink:href=\"#DejaVuSans-61\" x=\"652.929688\"/>\n     <use xlink:href=\"#DejaVuSans-6d\" x=\"714.208984\"/>\n    </g>\n   </g>\n  </g>\n </g>\n <defs>\n  <clipPath id=\"p66e6a83b07\">\n   <rect x=\"59.690625\" y=\"22.318125\" width=\"357.12\" height=\"120.96\"/>\n  </clipPath>\n </defs>\n</svg>\n",
      "image/png": "[encoded data removed]"
     },
     "metadata": {}
    }
   ],
   "metadata": {}
  }
 ],
 "metadata": {
  "orig_nbformat": 4,
  "language_info": {
   "name": "python",
   "version": "3.11.3",
   "mimetype": "text/x-python",
   "codemirror_mode": {
    "name": "ipython",
    "version": 3
   },
   "pygments_lexer": "ipython3",
   "nbconvert_exporter": "python",
   "file_extension": ".py"
  },
  "kernelspec": {
   "name": "python3",
   "display_name": "Python 3.11.3 64-bit"
  },
  "interpreter": {
   "hash": "ac5dd863468244619c7fced7518372bf3cd36c113782136ac6ec3e547102faee"
  }
 },
 "nbformat": 4,
 "nbformat_minor": 2
}