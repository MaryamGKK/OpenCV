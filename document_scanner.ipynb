{
 "cells": [
  {
   "cell_type": "code",
   "execution_count": 1,
   "source": [
    "#Importing Libraries\r\n",
    "import cv2 as cv\r\n",
    "import numpy as np"
   ],
   "outputs": [],
   "metadata": {}
  },
  {
   "cell_type": "code",
   "execution_count": 2,
   "source": [
    "# Loading an image and setting the frame size for the scanned documents\r\n",
    "img = cv.imread(\"docs.jpg\")\r\n",
    "frameWidth = 480\r\n",
    "frameHeight = 640\r\n",
    "cv.imshow(\"Original\",img)\r\n",
    "cv.waitKey(0)"
   ],
   "outputs": [
    {
     "output_type": "execute_result",
     "data": {
      "text/plain": [
       "-1"
      ]
     },
     "metadata": {},
     "execution_count": 2
    }
   ],
   "metadata": {}
  },
  {
   "cell_type": "code",
   "execution_count": 3,
   "source": [
    "#Processing the image\r\n",
    "def imageProcessing(img):\r\n",
    "    gray = cv.cvtColor(img, cv.COLOR_BGR2GRAY)\r\n",
    "    blur = cv.GaussianBlur(gray, (5, 5), 1)\r\n",
    "    canny = cv.Canny(blur, 100, 100)\r\n",
    "    return canny\r\n",
    "canny = imageProcessing(img)\r\n",
    "cv.imshow('Canny', canny)\r\n",
    "cv.waitKey(0)"
   ],
   "outputs": [
    {
     "output_type": "execute_result",
     "data": {
      "text/plain": [
       "-1"
      ]
     },
     "metadata": {},
     "execution_count": 3
    }
   ],
   "metadata": {}
  },
  {
   "cell_type": "code",
   "execution_count": 4,
   "source": [
    "#Getting the boundaries of the document\r\n",
    "def GetContour(img):\r\n",
    "    biggest = np.array([])\r\n",
    "    bArea = 0\r\n",
    "    contours, heirarchy = cv.findContours(img, cv.RETR_EXTERNAL, cv.CHAIN_APPROX_NONE)\r\n",
    "    for cnt in contours:\r\n",
    "        area = cv.contourArea(cnt)\r\n",
    "        if area > 5500:\r\n",
    "            peri = cv.arcLength(cnt, True)\r\n",
    "            approx = cv.approxPolyDP(cnt, 0.02*peri, True)\r\n",
    "            if area > bArea and len(approx) == 4:\r\n",
    "                biggest = approx\r\n",
    "                bArea = area\r\n",
    "    return biggest\r\n",
    "biggest = GetContour(canny)\r\n",
    "print(biggest)\r\n",
    "print(biggest.shape)"
   ],
   "outputs": [
    {
     "output_type": "stream",
     "name": "stdout",
     "text": [
      "[[[ 53  32]]\n",
      "\n",
      " [[ 53 605]]\n",
      "\n",
      " [[458 605]]\n",
      "\n",
      " [[458  32]]]\n",
      "(4, 1, 2)\n"
     ]
    }
   ],
   "metadata": {}
  },
  {
   "cell_type": "code",
   "execution_count": 5,
   "source": [
    "#Getting the points around the boundaries\r\n",
    "def reorder(myPoints):\r\n",
    "    myPoints = myPoints.reshape((4, 2))\r\n",
    "    newPoints = np.zeros((4, 2, ), dtype=np.int32)\r\n",
    "    add = myPoints.sum(1)\r\n",
    "    newPoints[0] = myPoints[add.argmin()]\r\n",
    "    newPoints[3] = myPoints[add.argmax()]\r\n",
    "    diff = np.diff(myPoints,axis = 1)\r\n",
    "    newPoints[1] = myPoints[np.argmin(diff)]\r\n",
    "    newPoints[2] = myPoints[np.argmax(diff)]\r\n",
    "    return newPoints\r\n",
    "reorder(biggest)"
   ],
   "outputs": [
    {
     "output_type": "execute_result",
     "data": {
      "text/plain": [
       "array([[ 53,  32],\n",
       "       [458,  32],\n",
       "       [ 53, 605],\n",
       "       [458, 605]])"
      ]
     },
     "metadata": {},
     "execution_count": 5
    }
   ],
   "metadata": {}
  },
  {
   "cell_type": "code",
   "execution_count": 10,
   "source": [
    "#Warping the document\r\n",
    "def getWarp(img,biggest):\r\n",
    "    biggest = reorder(biggest)\r\n",
    "    pts1 = np.float32(biggest)\r\n",
    "    pts2 = np.float32([[0, 0], [frameWidth, 0], [0, frameHeight], [frameWidth, frameHeight]])\r\n",
    "    matrix = cv.getPerspectiveTransform(pts1, pts2)\r\n",
    "    newImg = cv.warpPerspective(img, matrix, (frameWidth, frameHeight))\r\n",
    "    return newImg\r\n",
    "\r\n",
    "outputImg = getWarp(img, biggest)\r\n",
    "cv.imshow('Scanned', outputImg)\r\n",
    "cv.waitKey(0)"
   ],
   "outputs": [
    {
     "output_type": "execute_result",
     "data": {
      "text/plain": [
       "-1"
      ]
     },
     "metadata": {},
     "execution_count": 10
    }
   ],
   "metadata": {}
  },
  {
   "cell_type": "code",
   "execution_count": 9,
   "source": [
    "img = cv.resize(img,(frameWidth,frameHeight))\r\n",
    "result = imageProcessing(img)\r\n",
    "biggest = GetContour(result)\r\n",
    "imgWrapped = getWarp(img, biggest)\r\n",
    "cv.imshow(\"Output\",imgWrapped)\r\n",
    "cv.waitKey(0)"
   ],
   "outputs": [
    {
     "output_type": "execute_result",
     "data": {
      "text/plain": [
       "-1"
      ]
     },
     "metadata": {},
     "execution_count": 9
    }
   ],
   "metadata": {}
  }
 ],
 "metadata": {
  "orig_nbformat": 4,
  "language_info": {
   "name": "python",
   "version": "3.11.3",
   "mimetype": "text/x-python",
   "codemirror_mode": {
    "name": "ipython",
    "version": 3
   },
   "pygments_lexer": "ipython3",
   "nbconvert_exporter": "python",
   "file_extension": ".py"
  },
  "kernelspec": {
   "name": "python3",
   "display_name": "Python 3.11.3 64-bit"
  },
  "interpreter": {
   "hash": "ac5dd863468244619c7fced7518372bf3cd36c113782136ac6ec3e547102faee"
  }
 },
 "nbformat": 4,
 "nbformat_minor": 2
}